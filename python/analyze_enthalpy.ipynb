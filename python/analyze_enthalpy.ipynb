{
 "cells": [
  {
   "cell_type": "code",
   "execution_count": 1,
   "metadata": {},
   "outputs": [],
   "source": [
    "from glob import glob\n",
    "import numpy as np\n",
    "import paprika\n",
    "import matplotlib.pyplot as plt\n",
    "import pandas as pd"
   ]
  },
  {
   "cell_type": "markdown",
   "metadata": {},
   "source": [
    "## Functions"
   ]
  },
  {
   "cell_type": "markdown",
   "metadata": {},
   "source": [
    "Get SEM from blocking analysis"
   ]
  },
  {
   "cell_type": "code",
   "execution_count": 3,
   "metadata": {},
   "outputs": [],
   "source": [
    "def block_sem(data):\n",
    "    avgs = np.mean(data)\n",
    "    totn = data.size\n",
    "    blkn = paprika.analysis.get_nearest_max(totn)\n",
    "    sems = paprika.analysis.get_block_sem(data[:blkn])\n",
    "    \n",
    "    return [avgs, sems]"
   ]
  },
  {
   "cell_type": "markdown",
   "metadata": {},
   "source": [
    "Extract potential energy from Amber *.mden file"
   ]
  },
  {
   "cell_type": "code",
   "execution_count": null,
   "metadata": {},
   "outputs": [],
   "source": [
    "def get_energies_for_enthalpy(mden):\n",
    "    \"\"\"\n",
    "    Modeled after Niel's version\n",
    "    \"\"\"\n",
    "    vdw = []\n",
    "    ele = []\n",
    "    bnd = []\n",
    "    ang = []\n",
    "    dih = []\n",
    "    v14 = []\n",
    "    e14 = []\n",
    "    \n",
    "    with open(mden, \"r\") as f:\n",
    "        for line in f.readlines()[10:]:\n",
    "            words = line.rstrip().split()\n",
    "            if words[0] == \"L6\":\n",
    "                vdw.append(float(words[3]))\n",
    "                ele.append(float(words[4]))\n",
    "            elif words[0] == \"L7\":\n",
    "                bnd.append(float(words[2]))\n",
    "                ang.append(float(words[3]))\n",
    "                dih.append(float(words[4]))\n",
    "            elif words[0] == \"L8\":\n",
    "                v14.append(float(words[1]))\n",
    "                e14.append(float(words[2]))\n",
    "                \n",
    "    return bnd, ang, dih, v14, e14, vdw, ele"
   ]
  },
  {
   "cell_type": "markdown",
   "metadata": {},
   "source": [
    "## Initialize"
   ]
  },
  {
   "cell_type": "code",
   "execution_count": 2,
   "metadata": {},
   "outputs": [],
   "source": [
    "n_blocks = 200\n",
    "block_time = 5.0\n",
    "n_ave = np.array([i+1 for i in range(n_blocks)])\n",
    "frames = n_ave*block_time"
   ]
  },
  {
   "cell_type": "markdown",
   "metadata": {},
   "source": [
    "## Bound potential energy"
   ]
  },
  {
   "cell_type": "markdown",
   "metadata": {},
   "source": [
    "OpenMM Output"
   ]
  },
  {
   "cell_type": "code",
   "execution_count": 4,
   "metadata": {},
   "outputs": [],
   "source": [
    "bound_cummulative = []\n",
    "bound_potential_energy = []\n",
    "for i in range(n_blocks):\n",
    "    data = pd.read_csv(f'windows/a000/production-v{i+1}.log')\n",
    "    bound_potential_energy.append(list(data['Potential Energy (kJ/mole)'].values))\n",
    "    bound_cummulative.append(data['Potential Energy (kJ/mole)'].mean())\n",
    "\n",
    "bound_potential_energy = np.array(bound_potential_energy).reshape(-1) / 4.184\n",
    "bound_cummulative = np.array(bound_cummulative)\n",
    "bound_cummulative = np.cumsum(bound_cummulative) / n_ave / 4.184"
   ]
  },
  {
   "cell_type": "markdown",
   "metadata": {},
   "source": [
    "Amber Output"
   ]
  },
  {
   "cell_type": "code",
   "execution_count": null,
   "metadata": {},
   "outputs": [],
   "source": [
    "e_bond = []\n",
    "e_ang = []\n",
    "e_dih = []\n",
    "e_v14 = []\n",
    "e_e14 = []\n",
    "e_vdw = []\n",
    "e_ele = []\n",
    "for i in range(1):\n",
    "    bnd, ang, dih, v14, e14, vdw, ele = get_energies_for_enthalpy(f'windows/a000/production-v{i+1}.mden')\n",
    "    e_bond.append(bnd)\n",
    "    e_ang.append(ang)\n",
    "    e_dih.append(dih)\n",
    "    e_v14.append(v14)\n",
    "    e_e14.append(e14)\n",
    "    e_vdw.append(vdw)\n",
    "    e_ele.append(ele)\n",
    "\n",
    "e_bond = [item for sublist in e_bond for item in sublist]\n",
    "e_ang = [item for sublist in e_ang for item in sublist]\n",
    "e_dih = [item for sublist in e_dih for item in sublist]\n",
    "e_v14 = [item for sublist in e_v14 for item in sublist]\n",
    "e_e14 = [item for sublist in e_e14 for item in sublist]\n",
    "e_vdw = [item for sublist in e_vdw for item in sublist]\n",
    "e_ele = [item for sublist in e_ele for item in sublist]\n",
    "\n",
    "lists = [e_bond, e_ang, e_dih, e_v14, e_e14, e_vdw, e_ele]\n",
    "e_total = [sum(x) for x in zip(*lists)]\n",
    "\n",
    "bound_potential_energy = np.array(e_total)"
   ]
  },
  {
   "cell_type": "markdown",
   "metadata": {},
   "source": [
    "## Unbound potential energy"
   ]
  },
  {
   "cell_type": "markdown",
   "metadata": {},
   "source": [
    "OpenMM Output"
   ]
  },
  {
   "cell_type": "code",
   "execution_count": 5,
   "metadata": {},
   "outputs": [],
   "source": [
    "unbound_cummulative = []\n",
    "unbound_potential_energy = []\n",
    "for i in range(n_blocks):\n",
    "    data = pd.read_csv(f'windows/r014/production-v{i+1}.log')\n",
    "    unbound_potential_energy.append(list(data['Potential Energy (kJ/mole)'].values))\n",
    "    unbound_cummulative.append(data['Potential Energy (kJ/mole)'].mean())\n",
    "    \n",
    "unbound_potential_energy = np.array(unbound_potential_energy).reshape(-1) / 4.184\n",
    "unbound_cummulative = np.array(unbound_cummulative)\n",
    "unbound_cummulative = np.cumsum(unbound_cummulative) / n_ave / 4.184"
   ]
  },
  {
   "cell_type": "markdown",
   "metadata": {},
   "source": [
    "Amber Output"
   ]
  },
  {
   "cell_type": "code",
   "execution_count": null,
   "metadata": {},
   "outputs": [],
   "source": [
    "e_bond = []\n",
    "e_ang = []\n",
    "e_dih = []\n",
    "e_v14 = []\n",
    "e_e14 = []\n",
    "e_vdw = []\n",
    "e_ele = []\n",
    "for i in range(1):\n",
    "    bnd, ang, dih, v14, e14, vdw, ele = get_energies_for_enthalpy(f'windows/r014/production-v{i+1}.mden')\n",
    "    e_bond.append(bnd)\n",
    "    e_ang.append(ang)\n",
    "    e_dih.append(dih)\n",
    "    e_v14.append(v14)\n",
    "    e_e14.append(e14)\n",
    "    e_vdw.append(vdw)\n",
    "    e_ele.append(ele)\n",
    "\n",
    "e_bond = [item for sublist in e_bond for item in sublist]\n",
    "e_ang = [item for sublist in e_ang for item in sublist]\n",
    "e_dih = [item for sublist in e_dih for item in sublist]\n",
    "e_v14 = [item for sublist in e_v14 for item in sublist]\n",
    "e_e14 = [item for sublist in e_e14 for item in sublist]\n",
    "e_vdw = [item for sublist in e_vdw for item in sublist]\n",
    "e_ele = [item for sublist in e_ele for item in sublist]\n",
    "\n",
    "lists = [e_bond, e_ang, e_dih, e_v14, e_e14, e_vdw, e_ele]\n",
    "e_total = [sum(x) for x in zip(*lists)]\n",
    "\n",
    "unbound_potential_energy = np.array(e_total)"
   ]
  },
  {
   "cell_type": "markdown",
   "metadata": {},
   "source": [
    "## Enthalpy"
   ]
  },
  {
   "cell_type": "code",
   "execution_count": 6,
   "metadata": {},
   "outputs": [
    {
     "name": "stdout",
     "output_type": "stream",
     "text": [
      "Bound potential energy  : -18136.02 +- 0.22 kcal/mol\n",
      "Unbound potential energy: -18136.02 +- 0.22 kcal/mol\n",
      "Binding Enthalpy        : -25.92 +- 0.32 kcal/mol\n"
     ]
    }
   ],
   "source": [
    "bound = block_sem(bound_potential_energy)\n",
    "unbound = block_sem(unbound_potential_energy)\n",
    "enthalpy = {'pe': bound[0] - unbound[0], 'sem': (bound[1]**2 + unbound[1]**2)**0.5}\n",
    "print(f\"Bound potential energy  : {bound[0]:.2f} +- {bound[1]:.2f} kcal/mol\")\n",
    "print(f\"Unbound potential energy: {bound[0]:.2f} +- {bound[1]:.2f} kcal/mol\")\n",
    "print(f\"Binding Enthalpy        : {enthalpy['pe']:.2f} +- {enthalpy['sem']:.2f} kcal/mol\")"
   ]
  },
  {
   "cell_type": "markdown",
   "metadata": {},
   "source": [
    "## Plot results"
   ]
  },
  {
   "cell_type": "code",
   "execution_count": 16,
   "metadata": {},
   "outputs": [
    {
     "data": {
      "text/plain": [
       "Text(0.5, 0, 'Time (ns)')"
      ]
     },
     "execution_count": 16,
     "metadata": {},
     "output_type": "execute_result"
    },
    {
     "data": {
      "image/png": "[encoded data removed]",
      "text/plain": [
       "<Figure size 864x288 with 2 Axes>"
      ]
     },
     "metadata": {
      "needs_background": "light"
     },
     "output_type": "display_data"
    }
   ],
   "source": [
    "plt.figure(figsize=(12,4))\n",
    "plt.subplot(1,2,1)\n",
    "plt.plot(frames, bound_cummulative, label='bound')\n",
    "plt.title('Bound - a000')\n",
    "plt.xlabel('Time (ns)')\n",
    "plt.ylabel('Potential Energy (kcal/mol)')\n",
    "\n",
    "plt.subplot(1,2,2)\n",
    "plt.plot(frames, unbound_cummulative, label='unbound')\n",
    "plt.title('Unbound - r014')\n",
    "plt.xlabel('Time (ns)')"
   ]
  },
  {
   "cell_type": "code",
   "execution_count": null,
   "metadata": {},
   "outputs": [],
   "source": []
  }
 ],
 "metadata": {
  "kernelspec": {
   "display_name": "Python 3",
   "language": "python",
   "name": "python3"
  },
  "language_info": {
   "codemirror_mode": {
    "name": "ipython",
    "version": 3
   },
   "file_extension": ".py",
   "mimetype": "text/x-python",
   "name": "python",
   "nbconvert_exporter": "python",
   "pygments_lexer": "ipython3",
   "version": "3.7.6"
  }
 },
 "nbformat": 4,
 "nbformat_minor": 4
}
