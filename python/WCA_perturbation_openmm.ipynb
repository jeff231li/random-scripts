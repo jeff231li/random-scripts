{
 "cells": [
  {
   "cell_type": "code",
   "execution_count": 1,
   "id": "7ce88298",
   "metadata": {},
   "outputs": [],
   "source": [
    "import simtk.unit as unit\n",
    "from simtk.openmm.app import AmberPrmtopFile, AmberInpcrdFile, PME, HBonds\n",
    "from simtk.openmm import CustomNonbondedForce, NonbondedForce, XmlSerializer"
   ]
  },
  {
   "cell_type": "markdown",
   "id": "18480f05",
   "metadata": {},
   "source": [
    "## Import Amber Files"
   ]
  },
  {
   "cell_type": "code",
   "execution_count": 2,
   "id": "f809f574",
   "metadata": {},
   "outputs": [],
   "source": [
    "prmtop = AmberPrmtopFile(\"CB7-AMT-sol.prmtop\")\n",
    "inpcrd = AmberInpcrdFile(\"CB7-AMT-sol.rst7\")\n",
    "\n",
    "system = prmtop.createSystem(\n",
    "    nonbondedMethod=PME,\n",
    "    nonbondedCutoff=9.0 * unit.angstrom,\n",
    "    constraints=HBonds,\n",
    "    rigidWater=True,\n",
    ")\n",
    "\n",
    "with open(\"system_normal.xml\", \"w\") as f:\n",
    "    f.write(XmlSerializer.serialize(system))\n",
    "\n",
    "nonbonded = [force for force in system.getForces() if isinstance(force, NonbondedForce)][0]"
   ]
  },
  {
   "cell_type": "markdown",
   "id": "5de8ebbf",
   "metadata": {},
   "source": [
    "## Get atom indices of molecules in system"
   ]
  },
  {
   "cell_type": "code",
   "execution_count": 3,
   "id": "ba472fc9",
   "metadata": {},
   "outputs": [],
   "source": [
    "guest = [atom.index for atom in prmtop.topology.atoms() if atom.residue.name == \"AMT\"]\n",
    "host_and_solvent = [atom.index for atom in prmtop.topology.atoms() if atom.residue.name != \"AMT\"]"
   ]
  },
  {
   "cell_type": "markdown",
   "id": "8121e2f6",
   "metadata": {},
   "source": [
    "## Create Weeks-Chandler-Anderson perturbation\n",
    "http://www.sklogwiki.org/SklogWiki/index.php/Weeks-Chandler-Andersen_perturbation_theory"
   ]
  },
  {
   "cell_type": "markdown",
   "id": "7150b848",
   "metadata": {},
   "source": [
    "### Repulsive perturbation\n",
    "\n",
    "$$\n",
    "\\Phi_{repulsive}(r) = \\left\\{\n",
    "    \\begin{array}\\\\\n",
    "        \\Phi_{LJ} + \\epsilon & \\mbox{if } \\ r < 2^{1/6}\\sigma \\\\\n",
    "        0 & \\mbox{if } \\ r \\ge 2^{1/6}\\sigma \\\\\n",
    "    \\end{array}\n",
    "\\right.\n",
    "$$"
   ]
  },
  {
   "cell_type": "code",
   "execution_count": 4,
   "id": "f1f6e70c",
   "metadata": {},
   "outputs": [
    {
     "data": {
      "text/plain": [
       "5"
      ]
     },
     "execution_count": 4,
     "metadata": {},
     "output_type": "execute_result"
    }
   ],
   "source": [
    "wca_repulsive = CustomNonbondedForce(\n",
    "    \"step(2^(1/6)*sigma - r) * (LJ + epsilon);\"\n",
    "    \"LJ=4*epsilon*((sigma/r)^12-(sigma/r)^6);\"\n",
    "    \"sigma=0.5*(sigma1+sigma2);\"\n",
    "    \"epsilon=sqrt(epsilon1*epsilon2)\"\n",
    ")\n",
    "wca_repulsive.addPerParticleParameter(\"sigma\")\n",
    "wca_repulsive.addPerParticleParameter(\"epsilon\")\n",
    "wca_repulsive.setNonbondedMethod(CustomNonbondedForce.CutoffPeriodic)\n",
    "wca_repulsive.setCutoffDistance(nonbonded.getCutoffDistance())\n",
    "wca_repulsive.setUseLongRangeCorrection(nonbonded.getUseDispersionCorrection())\n",
    "wca_repulsive.addInteractionGroup(guest, host_and_solvent)\n",
    "\n",
    "# Set LJ parameters\n",
    "for atom in range(nonbonded.getNumParticles()):\n",
    "    wca_repulsive.addParticle(nonbonded.getParticleParameters(atom)[1:])\n",
    "    \n",
    "system.addForce(wca_repulsive)"
   ]
  },
  {
   "cell_type": "markdown",
   "id": "27578b51",
   "metadata": {},
   "source": [
    "### Attractive perturbation\n",
    "\n",
    "\n",
    "$$\n",
    "\\Phi_{attractive}(r) = \\left\\{\n",
    "    \\begin{array}\\\\\n",
    "        -\\epsilon & \\mbox{if } \\ r < 2^{1/6}\\sigma \\\\\n",
    "        \\Phi_{LJ} & \\mbox{if } \\ r \\ge 2^{1/6}\\sigma \\\\\n",
    "    \\end{array}\n",
    "\\right.\n",
    "$$"
   ]
  },
  {
   "cell_type": "code",
   "execution_count": 5,
   "id": "3b1aaca1",
   "metadata": {},
   "outputs": [
    {
     "data": {
      "text/plain": [
       "6"
      ]
     },
     "execution_count": 5,
     "metadata": {},
     "output_type": "execute_result"
    }
   ],
   "source": [
    "wca_attractive = CustomNonbondedForce(\n",
    "    \"step(2^(1/6)*sigma - r)*(-1*epsilon) + step(r - 2^(1/6)*sigma)*LJ;\"\n",
    "    \"LJ=4*epsilon*((sigma/r)^12-(sigma/r)^6);\"\n",
    "    \"sigma=0.5*(sigma1+sigma2);\"\n",
    "    \"epsilon=sqrt(epsilon1*epsilon2)\"\n",
    ")\n",
    "wca_attractive.addPerParticleParameter(\"sigma\")\n",
    "wca_attractive.addPerParticleParameter(\"epsilon\")\n",
    "wca_attractive.setNonbondedMethod(CustomNonbondedForce.CutoffPeriodic)\n",
    "wca_attractive.setCutoffDistance(nonbonded.getCutoffDistance())\n",
    "wca_attractive.setUseLongRangeCorrection(nonbonded.getUseDispersionCorrection())\n",
    "wca_attractive.addInteractionGroup(guest, host_and_solvent)\n",
    "\n",
    "# Set LJ parameters\n",
    "for atom in range(nonbonded.getNumParticles()):\n",
    "    wca_attractive.addParticle(nonbonded.getParticleParameters(atom)[1:])\n",
    "    \n",
    "system.addForce(wca_attractive)"
   ]
  },
  {
   "cell_type": "markdown",
   "id": "98d19788",
   "metadata": {},
   "source": [
    "## Set Guest molecule LJ parameters to zero"
   ]
  },
  {
   "cell_type": "code",
   "execution_count": 6,
   "id": "f1c8f8f6",
   "metadata": {},
   "outputs": [],
   "source": [
    "for atom in AdOH:\n",
    "    current_params = nonbonded.getParticleParameters(atom)\n",
    "    new_params = [current_params[0]*0.0, current_params[1]*0.0, current_params[2]*0.0]\n",
    "    nonbonded.setParticleParameters(atom, *new_params)"
   ]
  },
  {
   "cell_type": "markdown",
   "id": "c57a5df8",
   "metadata": {},
   "source": [
    "## Save new system"
   ]
  },
  {
   "cell_type": "code",
   "execution_count": 7,
   "id": "60ae735a",
   "metadata": {},
   "outputs": [],
   "source": [
    "with open(\"system_wca.xml\", \"w\") as f:\n",
    "    f.write(XmlSerializer.serialize(system))"
   ]
  },
  {
   "cell_type": "code",
   "execution_count": null,
   "id": "ba553a7c",
   "metadata": {},
   "outputs": [],
   "source": []
  }
 ],
 "metadata": {
  "kernelspec": {
   "display_name": "Python 3",
   "language": "python",
   "name": "python3"
  },
  "language_info": {
   "codemirror_mode": {
    "name": "ipython",
    "version": 3
   },
   "file_extension": ".py",
   "mimetype": "text/x-python",
   "name": "python",
   "nbconvert_exporter": "python",
   "pygments_lexer": "ipython3",
   "version": "3.8.8"
  }
 },
 "nbformat": 4,
 "nbformat_minor": 5
}
