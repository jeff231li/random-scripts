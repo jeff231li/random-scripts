{
 "cells": [
  {
   "cell_type": "code",
   "execution_count": 19,
   "id": "native-founder",
   "metadata": {},
   "outputs": [],
   "source": [
    "import os\n",
    "import matplotlib.pyplot as plt\n",
    "from paprika.evaluator import Analyze\n",
    "from openff.evaluator.protocols.paprika.restraints import ApplyRestraints"
   ]
  },
  {
   "cell_type": "markdown",
   "id": "chicken-raising",
   "metadata": {},
   "source": [
    "### Load restraints definition"
   ]
  },
  {
   "cell_type": "code",
   "execution_count": 9,
   "id": "private-palace",
   "metadata": {},
   "outputs": [],
   "source": [
    "folder = \"working-data/SimulationLayer/8f289f7028e54d54a3ebcec26428f1f0/567d88a69e984998a581d95456ec449d_\""
   ]
  },
  {
   "cell_type": "code",
   "execution_count": 14,
   "id": "funky-spread",
   "metadata": {},
   "outputs": [],
   "source": [
    "restraints0 = ApplyRestraints.load_restraints(f\"{folder}release_generate_restraints_0/restraints.json\")\n",
    "\n",
    "flat_restraints0 = [\n",
    "    restraint\n",
    "    for restraint_type in restraints0\n",
    "    for restraint in restraints0[restraint_type]\n",
    "]"
   ]
  },
  {
   "cell_type": "code",
   "execution_count": null,
   "id": "concerned-holly",
   "metadata": {},
   "outputs": [],
   "source": [
    "restraints1 = ApplyRestraints.load_restraints(f\"{folder}release_generate_restraints_1/restraints.json\")\n",
    "\n",
    "flat_restraints1 = [\n",
    "    restraint\n",
    "    for restraint_type in restraints1\n",
    "    for restraint in restraints1[restraint_type]\n",
    "]"
   ]
  },
  {
   "cell_type": "markdown",
   "id": "third-employment",
   "metadata": {},
   "source": [
    "### FE Analysis"
   ]
  },
  {
   "cell_type": "code",
   "execution_count": 17,
   "id": "meaningful-ground",
   "metadata": {},
   "outputs": [],
   "source": [
    "results0 = Analyze.compute_phase_free_energy(\n",
    "    phase=\"release\",\n",
    "    restraints=flat_restraints0,\n",
    "    windows_directory=f\"{folder}analyze_release_phase_0/windows\",\n",
    "    topology_name=\"topology.pdb\",\n",
    "    analysis_method=\"ti-block\",\n",
    ")"
   ]
  },
  {
   "cell_type": "code",
   "execution_count": 24,
   "id": "electronic-channels",
   "metadata": {},
   "outputs": [],
   "source": [
    "results1 = Analyze.compute_phase_free_energy(\n",
    "    phase=\"release\",\n",
    "    restraints=flat_restraints1,\n",
    "    windows_directory=f\"{folder}analyze_release_phase_1/windows\",\n",
    "    topology_name=\"topology.pdb\",\n",
    "    analysis_method=\"ti-block\",\n",
    ")"
   ]
  },
  {
   "cell_type": "markdown",
   "id": "indie-convenience",
   "metadata": {},
   "source": [
    "### Plot FE"
   ]
  },
  {
   "cell_type": "code",
   "execution_count": 25,
   "id": "atmospheric-tsunami",
   "metadata": {},
   "outputs": [
    {
     "data": {
      "text/plain": [
       "[<matplotlib.lines.Line2D at 0x7f63de034150>]"
      ]
     },
     "execution_count": 25,
     "metadata": {},
     "output_type": "execute_result"
    },
    {
     "data": {
      "image/png": "[encoded data removed]",
      "text/plain": [
       "<Figure size 432x288 with 1 Axes>"
      ]
     },
     "metadata": {
      "needs_background": "light"
     },
     "output_type": "display_data"
    }
   ],
   "source": [
    "plt.plot(results0['release']['ti-block']['fe_matrix'][0,:])\n",
    "plt.plot(results1['release']['ti-block']['fe_matrix'][0,:])"
   ]
  },
  {
   "cell_type": "code",
   "execution_count": 26,
   "id": "radical-affairs",
   "metadata": {},
   "outputs": [
    {
     "data": {
      "application/vnd.jupyter.widget-view+json": {
       "model_id": "01f6baa6e0f2490b89554b37745b3676",
       "version_major": 2,
       "version_minor": 0
      },
      "text/plain": []
     },
     "metadata": {},
     "output_type": "display_data"
    }
   ],
   "source": [
    "import nglview as nv\n",
    "import pytraj as pt"
   ]
  },
  {
   "cell_type": "code",
   "execution_count": 28,
   "id": "special-dietary",
   "metadata": {},
   "outputs": [
    {
     "data": {
      "application/vnd.jupyter.widget-view+json": {
       "model_id": "f0fc4a5025094569a6bc4c80ae2d8f6e",
       "version_major": 2,
       "version_minor": 0
      },
      "text/plain": [
       "NGLWidget(max_frame=1999)"
      ]
     },
     "metadata": {},
     "output_type": "display_data"
    }
   ],
   "source": [
    "traj = pt.iterload(\n",
    "    f\"{folder}analyze_release_phase_0/windows/r000/trajectory.dcd\",\n",
    "    top=f\"{folder}analyze_release_phase_0/windows/r000/topology.pdb\",\n",
    ")\n",
    "view = nv.show_pytraj(traj)\n",
    "view"
   ]
  },
  {
   "cell_type": "code",
   "execution_count": null,
   "id": "coupled-regression",
   "metadata": {},
   "outputs": [],
   "source": []
  }
 ],
 "metadata": {
  "kernelspec": {
   "display_name": "Python 3",
   "language": "python",
   "name": "python3"
  },
  "language_info": {
   "codemirror_mode": {
    "name": "ipython",
    "version": 3
   },
   "file_extension": ".py",
   "mimetype": "text/x-python",
   "name": "python",
   "nbconvert_exporter": "python",
   "pygments_lexer": "ipython3",
   "version": "3.7.9"
  }
 },
 "nbformat": 4,
 "nbformat_minor": 5
}
