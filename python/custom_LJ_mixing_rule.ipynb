{
 "cells": [
  {
   "cell_type": "markdown",
   "metadata": {},
   "source": [
    "# A minimal example of creating a custom LJ potential in OpenMM\n",
    "This notebook shows an example of moving the LJ potential from `NonbondedForce` to `CustomNonbondedForce` for a butane molecule in vacuum. The parameters for the molecule are obtained from GAFF."
   ]
  },
  {
   "cell_type": "code",
   "execution_count": 1,
   "metadata": {},
   "outputs": [],
   "source": [
    "from simtk.openmm.app import *\n",
    "from simtk.openmm import *\n",
    "import simtk.unit as unit"
   ]
  },
  {
   "cell_type": "markdown",
   "metadata": {},
   "source": [
    "## Lennard-Jones energy expression"
   ]
  },
  {
   "cell_type": "code",
   "execution_count": 2,
   "metadata": {},
   "outputs": [],
   "source": [
    "# 12-6 LJ\n",
    "LJ_potential = \"4*epsilon*((sigma/r)^12-(sigma/r)^6); \"\n",
    "\n",
    "# Combining rules\n",
    "Lorentz_Berthelot = \"sigma=0.5*(sigma1+sigma2); epsilon=sqrt(epsilon1*epsilon2)\"\n",
    "Good_Hope = \"sigma=sqrt(sigma1*sigma2); epsilon=sqrt(epsilon1*epsilon2)\"\n",
    "Fender_Halsey = \"sigma=0.5*(sigma1+sigma2); epsilon=2*epsilon1*epsilon2/(epsilon1+epsilon2)\"\n",
    "Waldman_Hagler = \"sigma=(0.5*(sigma1^6+sigma2^6))^(1/6); epsilon=sqrt(epsilon1*epsilon2)*(2*sigma1^3*sigma2^3)/(sigma1^6+sigma2^6)\""
   ]
  },
  {
   "cell_type": "markdown",
   "metadata": {},
   "source": [
    "## Load Amber topology and create OpenMM System"
   ]
  },
  {
   "cell_type": "code",
   "execution_count": 3,
   "metadata": {},
   "outputs": [],
   "source": [
    "prmtop = AmberPrmtopFile('butane.prmtop')\n",
    "inpcrd = AmberInpcrdFile('butane.rst7')"
   ]
  },
  {
   "cell_type": "code",
   "execution_count": 4,
   "metadata": {},
   "outputs": [],
   "source": [
    "system = prmtop.createSystem(\n",
    "    nonbondedMethod=NoCutoff,\n",
    "#     nonbondedCutoff=9.0 * unit.angstrom,\n",
    "    constraints=HBonds,\n",
    ")\n",
    "forces = {system.getForce(index).__class__.__name__: system.getForce(index) for index in range(system.getNumForces())}\n",
    "nonbonded_force = forces['NonbondedForce']\n",
    "# nonbonded_force.setUseDispersionCorrection(False)"
   ]
  },
  {
   "cell_type": "markdown",
   "metadata": {},
   "source": [
    "## Calculate the potential energy with the current LJ"
   ]
  },
  {
   "cell_type": "code",
   "execution_count": 5,
   "metadata": {},
   "outputs": [],
   "source": [
    "integrator = LangevinIntegrator(298.15 * unit.kelvin, 1.0 / unit.picoseconds, 2.0 * unit.femtosecond)\n",
    "simulation = Simulation(\n",
    "    prmtop.topology, \n",
    "    system, \n",
    "    integrator,\n",
    "    openmm.Platform.getPlatformByName('CPU'),\n",
    ")\n",
    "simulation.context.setPositions(inpcrd.positions)"
   ]
  },
  {
   "cell_type": "code",
   "execution_count": 6,
   "metadata": {},
   "outputs": [],
   "source": [
    "total_energy = simulation.context.getState(getEnergy=True, groups={0})\n",
    "energy_original = total_energy.getPotentialEnergy() / unit.kilocalorie_per_mole"
   ]
  },
  {
   "cell_type": "markdown",
   "metadata": {},
   "source": [
    "## Create new CustomNonbondedForce\n",
    "Example here is to replace the 12-6 LJ potential in `NonbondedForce` and move it to `CustomNonbondedForce`."
   ]
  },
  {
   "cell_type": "code",
   "execution_count": 7,
   "metadata": {},
   "outputs": [],
   "source": [
    "LJ_new = CustomNonbondedForce(LJ_potential + Lorentz_Berthelot)\n",
    "LJ_new.addPerParticleParameter(\"sigma\")\n",
    "LJ_new.addPerParticleParameter(\"epsilon\")\n",
    "LJ_new.setNonbondedMethod(CustomNonbondedForce.CutoffPeriodic)\n",
    "# LJ_new.setUseLongRangeCorrection(nonbonded_force.getUseDispersionCorrection())"
   ]
  },
  {
   "cell_type": "code",
   "execution_count": 8,
   "metadata": {},
   "outputs": [],
   "source": [
    "# Set the LJ parameters\n",
    "for atom in range(system.getNumParticles()):\n",
    "    current_parameters = nonbonded_force.getParticleParameters(atom)\n",
    "    # charge: current_parameters[0] | sigma: current_parameters[1] | epsilon: current_parameters[2]\n",
    "    LJ_new.addParticle([current_parameters[1], current_parameters[2]])"
   ]
  },
  {
   "cell_type": "code",
   "execution_count": 9,
   "metadata": {},
   "outputs": [],
   "source": [
    "# Set exclusions\n",
    "for index in range(nonbonded_force.getNumExceptions()):\n",
    "    [atomi, atomj, chargeprod, sigma, epsilon]  = nonbonded_force.getExceptionParameters(index)\n",
    "    LJ_new.addExclusion(atomi, atomj)"
   ]
  },
  {
   "cell_type": "code",
   "execution_count": 10,
   "metadata": {},
   "outputs": [
    {
     "data": {
      "text/plain": [
       "5"
      ]
     },
     "execution_count": 10,
     "metadata": {},
     "output_type": "execute_result"
    }
   ],
   "source": [
    "# Add new LJ potential to OpenMM system object\n",
    "system.addForce(LJ_new)"
   ]
  },
  {
   "cell_type": "markdown",
   "metadata": {},
   "source": [
    "## Set LJ parameters in `NonbondedForce` to Zero\n",
    "Since we only want `CustomNonbondedForce` to take care of the LJ potential"
   ]
  },
  {
   "cell_type": "code",
   "execution_count": 11,
   "metadata": {},
   "outputs": [],
   "source": [
    "for atom in range(system.getNumParticles()):\n",
    "    current_parameters = nonbonded_force.getParticleParameters(atom)\n",
    "    nonbonded_force.setParticleParameters(atom, current_parameters[0], 0.0, 0.0)"
   ]
  },
  {
   "cell_type": "markdown",
   "metadata": {},
   "source": [
    "## Calculate the energy with the new LJ"
   ]
  },
  {
   "cell_type": "code",
   "execution_count": 12,
   "metadata": {},
   "outputs": [],
   "source": [
    "integrator = LangevinIntegrator(298.15 * unit.kelvin, 1.0 / unit.picoseconds, 2.0 * unit.femtosecond)\n",
    "simulation = Simulation(\n",
    "    prmtop.topology, \n",
    "    system, \n",
    "    integrator,\n",
    "    openmm.Platform.getPlatformByName('CPU'),\n",
    ")\n",
    "simulation.context.setPositions(inpcrd.positions)"
   ]
  },
  {
   "cell_type": "code",
   "execution_count": 13,
   "metadata": {},
   "outputs": [],
   "source": [
    "total_energy = simulation.context.getState(getEnergy=True, groups={0})\n",
    "energy_custom = total_energy.getPotentialEnergy() / unit.kilocalorie_per_mole"
   ]
  },
  {
   "cell_type": "markdown",
   "metadata": {},
   "source": [
    "## Compare Energies"
   ]
  },
  {
   "cell_type": "code",
   "execution_count": 14,
   "metadata": {},
   "outputs": [
    {
     "name": "stdout",
     "output_type": "stream",
     "text": [
      "Total energy of butane:\n",
      " - Original = 3.05833 kcal/mol\n",
      " - Custom   = 3.05833 kcal/mol\n"
     ]
    }
   ],
   "source": [
    "print(\"Total energy of butane:\")\n",
    "print(f\" - Original = {energy_original:.5f} kcal/mol\")\n",
    "print(f\" - Custom   = {energy_custom:.5f} kcal/mol\")"
   ]
  }
 ],
 "metadata": {
  "kernelspec": {
   "display_name": "Python 3",
   "language": "python",
   "name": "python3"
  },
  "language_info": {
   "codemirror_mode": {
    "name": "ipython",
    "version": 3
   },
   "file_extension": ".py",
   "mimetype": "text/x-python",
   "name": "python",
   "nbconvert_exporter": "python",
   "pygments_lexer": "ipython3",
   "version": "3.7.8"
  }
 },
 "nbformat": 4,
 "nbformat_minor": 4
}
