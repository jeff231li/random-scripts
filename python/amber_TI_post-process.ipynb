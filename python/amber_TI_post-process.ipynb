{
 "cells": [
  {
   "cell_type": "code",
   "execution_count": 1,
   "metadata": {},
   "outputs": [],
   "source": [
    "from glob import glob\n",
    "import os\n",
    "import numpy as np\n",
    "import matplotlib.pyplot as plt\n",
    "import pandas as pd\n",
    "from paprika.analysis import get_block_sem, get_nearest_max"
   ]
  },
  {
   "cell_type": "markdown",
   "metadata": {},
   "source": [
    "### Lambda points"
   ]
  },
  {
   "cell_type": "code",
   "execution_count": 2,
   "metadata": {},
   "outputs": [],
   "source": [
    "clambda = np.array([0.0, 0.1, 0.2, 0.3, 0.4, 0.5, 0.6, 0.7, 0.8, 0.9, 1.0])\n",
    "weights = np.array([1])\n",
    "int_type = 'trapezoidal'\n",
    "nTI = len(clambda)\n",
    "skip = 50"
   ]
  },
  {
   "cell_type": "markdown",
   "metadata": {},
   "source": [
    "### Collect dvdl data from logfile"
   ]
  },
  {
   "cell_type": "code",
   "execution_count": 3,
   "metadata": {},
   "outputs": [],
   "source": [
    "dvdl_ti = []\n",
    "dvdl_run_ave = []\n",
    "\n",
    "for ti in range(nTI):\n",
    "    production = glob(os.path.join(f'd{ti:03d}', 'production-v*.out'))\n",
    "    dvdl_i = []\n",
    "    dvdl_a = []\n",
    "    dvdl = 0.0\n",
    "    j = 0\n",
    "    for prod in production:\n",
    "        with open(prod, 'r') as file:        \n",
    "            for line in file:                \n",
    "                if \"Summary of dvdl values over\" in line:                    \n",
    "                    for i in range(int(line.split()[-2])):\n",
    "                        if i % skip == 0:\n",
    "                            data = float(file.readline())\n",
    "                            dvdl += data\n",
    "\n",
    "                            dvdl_i.append(data)\n",
    "                            dvdl_a.append(dvdl / (j+1))\n",
    "\n",
    "                            j += 1\n",
    "\n",
    "    dvdl_ti.append(dvdl_i)\n",
    "    dvdl_run_ave.append(dvdl_a)\n",
    "\n",
    "dvdl_ti = np.array(dvdl_ti)\n",
    "dvdl_run_ave = np.array(dvdl_run_ave)"
   ]
  },
  {
   "cell_type": "markdown",
   "metadata": {},
   "source": [
    "### Get average and block data sem"
   ]
  },
  {
   "cell_type": "code",
   "execution_count": null,
   "metadata": {},
   "outputs": [],
   "source": [
    "dvdl_avgs = np.zeros([clambda.size], np.float64)\n",
    "dvdl_sems = np.zeros([clambda.size], np.float64)\n",
    "dvdl_totn = np.zeros([clambda.size], np.int32)\n",
    "dvdl_blkn = np.zeros([clambda.size], np.int32)\n",
    "\n",
    "for i in range(nTI):\n",
    "    dvdl_avgs[i] = np.mean(dvdl_ti[i,:])\n",
    "    dvdl_totn[i] = dvdl_ti[i,:].size\n",
    "    dvdl_blkn[i] = get_nearest_max(len(dvdl_ti[i]))\n",
    "    dvdl_sems[i] = get_block_sem(dvdl_ti[i,:dvdl_blkn[i]])"
   ]
  },
  {
   "cell_type": "markdown",
   "metadata": {},
   "source": [
    "### Bootstrapping"
   ]
  },
  {
   "cell_type": "code",
   "execution_count": null,
   "metadata": {},
   "outputs": [],
   "source": [
    "boot_cycles = 10000\n",
    "fe_boot = np.zeros([boot_cycles], np.float64)\n",
    "boot_dvdls = np.zeros([nTI, boot_cycles], np.float64)\n",
    "\n",
    "for i in range(nTI):\n",
    "    boot_dvdls[i,:] = np.random.normal(dvdl_avgs[i], dvdl_sems[i], boot_cycles)\n",
    "    \n",
    "for cycle in range(boot_cycles):\n",
    "    fe_boot[cycle] = np.trapz(boot_dvdls[:,cycle], clambda)\n",
    "    \n",
    "fe_avgs = np.mean(fe_boot)\n",
    "fe_sems = np.std(fe_boot)\n",
    "\n",
    "print(f\"Free-energy: {fe_avgs:.2f} +- {fe_sems:.2f} kcal/mol\")"
   ]
  },
  {
   "cell_type": "markdown",
   "metadata": {},
   "source": [
    "### TI Results"
   ]
  },
  {
   "cell_type": "code",
   "execution_count": null,
   "metadata": {},
   "outputs": [],
   "source": [
    "plt.figure(figsize=(16,6))\n",
    "plt.subplot(1,2,1)\n",
    "ndata = np.shape(dvdl_ti)[1]\n",
    "TI = np.zeros(ndata)\n",
    "for i in range(ndata):\n",
    "    if int_type == 'trapezoidal':\n",
    "        TI[i] = np.trapz(dvdl_run_ave[:,i], clambda)\n",
    "    elif int_type == 'quadrature':\n",
    "        TI[i] = np.sum(dvdl_run_ave[:,i] * weights)\n",
    "    \n",
    "plt.plot(TI)\n",
    "plt.xlabel('frames', size=14, weight='bold')\n",
    "plt.ylabel('v (kcal/mol)', size=14, weight='bold')\n",
    "\n",
    "plt.subplot(1,2,2)\n",
    "for i in range(nTI):\n",
    "    plt.plot(dvdl_run_ave[i,:], label=f\"l = {clambda[i]}\")\n",
    "    plt.xlabel('frames', size=14, weight='bold')\n",
    "    plt.ylabel('<du/dl>', size=14, weight='bold')\n",
    "plt.legend(bbox_to_anchor=(1.03, 1.0))"
   ]
  },
  {
   "cell_type": "markdown",
   "metadata": {},
   "source": [
    "### Average dU/dl "
   ]
  },
  {
   "cell_type": "code",
   "execution_count": null,
   "metadata": {},
   "outputs": [],
   "source": [
    "plt.errorbar(clambda, dvdl_avgs, yerr=dvdl_sems, fmt='o-')\n",
    "plt.xlabel('lambda', size=14, weight='bold')\n",
    "plt.ylabel('<dU/dl>', size=14, weight='bold')\n",
    "plt.xlim(0,1)"
   ]
  },
  {
   "cell_type": "code",
   "execution_count": null,
   "metadata": {},
   "outputs": [],
   "source": []
  }
 ],
 "metadata": {
  "kernelspec": {
   "display_name": "Python 3",
   "language": "python",
   "name": "python3"
  },
  "language_info": {
   "codemirror_mode": {
    "name": "ipython",
    "version": 3
   },
   "file_extension": ".py",
   "mimetype": "text/x-python",
   "name": "python",
   "nbconvert_exporter": "python",
   "pygments_lexer": "ipython3",
   "version": "3.7.6"
  }
 },
 "nbformat": 4,
 "nbformat_minor": 4
}
