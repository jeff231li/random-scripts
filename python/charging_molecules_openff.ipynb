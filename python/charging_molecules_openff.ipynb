{
 "cells": [
  {
   "cell_type": "code",
   "execution_count": 1,
   "metadata": {},
   "outputs": [],
   "source": [
    "import os\n",
    "\n",
    "os.environ[\"OE_LICENSE\"] = \"/home/jsetiadi/oe_license.txt\"\n",
    "\n",
    "import simtk.unit as unit\n",
    "from openeye import oechem, oeomega, oequacpac\n",
    "from openff.evaluator.datasets.taproom import TaproomDataSet\n",
    "from openff.evaluator.forcefield import SmirnoffForceFieldSource\n",
    "from openff.toolkit.topology import Molecule\n",
    "from openff.toolkit.typing.engines import smirnoff\n",
    "from openff.toolkit.typing.engines.smirnoff import ForceField\n",
    "from openff.toolkit.typing.engines.smirnoff.parameters import LibraryChargeHandler\n",
    "from openff.toolkit.utils import DEFAULT_AROMATICITY_MODEL\n",
    "from pkg_resources import resource_filename"
   ]
  },
  {
   "cell_type": "code",
   "execution_count": 2,
   "metadata": {},
   "outputs": [],
   "source": [
    "def add_molecule_to_library_charge(library_charge_handler: LibraryChargeHandler, molecule: Molecule):\n",
    "    # Create a smiles pattern which assign every atom a unique index.\n",
    "    mapped_smiles = molecule.to_smiles(mapped=True)\n",
    "\n",
    "    # Build a library charge handler for the molecule.\n",
    "    library_charge_handler.add_parameter(\n",
    "        parameter_kwargs={\n",
    "            \"smirks\": mapped_smiles,\n",
    "            **{\n",
    "                f\"charge{i + 1}\": charge\n",
    "                for i, charge in enumerate(molecule.partial_charges)\n",
    "            },\n",
    "        }\n",
    "    )"
   ]
  },
  {
   "cell_type": "code",
   "execution_count": 3,
   "metadata": {},
   "outputs": [],
   "source": [
    "def charge_guest_molecule(guest_molecule: Molecule) -> Molecule:\n",
    "    \"\"\"Charge a guest molecules using openeye AM1BCC charge model.\n",
    "    \"\"\"\n",
    "    oe_molecule: oechem.OEMol = guest_molecule.to_openeye()\n",
    "\n",
    "    # Generate the conformers.\n",
    "    omega = oeomega.OEOmega()\n",
    "    omega.SetMaxConfs(100)\n",
    "    omega.SetIncludeInput(False)\n",
    "    omega.SetStrictStereo(True)\n",
    "    omega(oe_molecule)\n",
    "    assert omega.Build(oe_molecule) == oeomega.OEOmegaReturnCode_Success\n",
    "\n",
    "    # Assign the charges\n",
    "    charge_engine = oequacpac.OEAM1BCCELF10Charges()\n",
    "    assert oequacpac.OEAssignCharges(oe_molecule, charge_engine)\n",
    "\n",
    "    # Map the OE molecule back to an OpenFF one.\n",
    "    off_molecule = Molecule.from_openeye(oe_molecule)\n",
    "    \n",
    "    return off_molecule"
   ]
  },
  {
   "cell_type": "code",
   "execution_count": 4,
   "metadata": {},
   "outputs": [],
   "source": [
    "def charge_host_molecule(host_molecule: Molecule) -> Molecule:\n",
    "    \"\"\"Charge a macrocycle host molecules using a combination of the\n",
    "    ``OEMacrocycleOmega`` varient of Omega and the default openeye AM1BCC charge\n",
    "    model.\n",
    "    \"\"\"\n",
    "    oe_molecule: oechem.OEMol = host_molecule.to_openeye()\n",
    "\n",
    "    # Enable macrocycle sampling of conformers\n",
    "    omega_options = oeomega.OEMacrocycleOmegaOptions()\n",
    "\n",
    "    # Generate the conformers.\n",
    "    omega = oeomega.OEMacrocycleOmega(omega_options)\n",
    "    assert omega.Build(oe_molecule) == oeomega.OEOmegaReturnCode_Success\n",
    "\n",
    "    # Assign the charges\n",
    "    charge_engine = oequacpac.OEAM1BCCELF10Charges()\n",
    "    assert oequacpac.OEAssignCharges(oe_molecule, charge_engine)\n",
    "\n",
    "    # Map the OE molecule back to an OpenFF one.\n",
    "    off_molecule = Molecule.from_openeye(oe_molecule)\n",
    "    \n",
    "    return off_molecule"
   ]
  },
  {
   "cell_type": "markdown",
   "metadata": {},
   "source": [
    "## Collect info of Taproom dataset"
   ]
  },
  {
   "cell_type": "code",
   "execution_count": 5,
   "metadata": {},
   "outputs": [],
   "source": [
    "data_set = TaproomDataSet(\n",
    "    in_vacuum=True,\n",
    ")\n",
    "all_smiles = set(\n",
    "    component.smiles\n",
    "    for substance in data_set.substances\n",
    "    for component in substance.components\n",
    ")\n",
    "guest_smiles = [smile for smile in all_smiles if len(smile)<100]\n",
    "host_smiles = [smile for smile in all_smiles if len(smile)>100]"
   ]
  },
  {
   "cell_type": "markdown",
   "metadata": {},
   "source": [
    "### Create Library Charge"
   ]
  },
  {
   "cell_type": "code",
   "execution_count": 6,
   "metadata": {},
   "outputs": [],
   "source": [
    "library_charge_handler = LibraryChargeHandler(version=0.3)"
   ]
  },
  {
   "cell_type": "markdown",
   "metadata": {},
   "source": [
    "### Charge guest molecules"
   ]
  },
  {
   "cell_type": "code",
   "execution_count": 7,
   "metadata": {
    "scrolled": false
   },
   "outputs": [
    {
     "name": "stdout",
     "output_type": "stream",
     "text": [
      "0 - Charging molecule: CC(C)CCC(=O)[O-]\n",
      "1 - Charging molecule: CCCCCC[N+](C)(C)C\n",
      "2 - Charging molecule: c1ccc(cc1)C(=O)[O-]\n",
      "3 - Charging molecule: C[C@H](C12CC3CC(C1)CC(C3)C2)[NH3+]\n",
      "4 - Charging molecule: C[C@H](CC(=O)[O-])c1ccccc1\n",
      "5 - Charging molecule: C[NH2+][C@]1(CCCCC1=O)c2ccccc2Cl\n",
      "6 - Charging molecule: CCCCC(=O)[O-]\n",
      "7 - Charging molecule: CCCCCCCC(=O)[O-]\n",
      "8 - Charging molecule: C1CCC(C1)CC(=O)[O-]\n",
      "9 - Charging molecule: C1CCCCCC(CCCCC1)[NH3+]\n",
      "10 - Charging molecule: C[N@H+]1CC[C@]23c4c5ccc(c4O[C@H]2[C@H](C=C[C@H]3[C@H]1C5)O)O\n",
      "11 - Charging molecule: CCc1ccc(cc1)C(=O)[O-]\n",
      "12 - Charging molecule: C1CCCC(CCC1)O\n",
      "13 - Charging molecule: CC(C)(CC=C)C(=O)[O-]\n",
      "14 - Charging molecule: c1cc2c3c(c1)C(=O)N(C[C@@H]3CCC2)[C@@H]4C[NH+]5CCC4CC5\n",
      "15 - Charging molecule: C[N@H+]1CC[C@]23c4c5ccc(c4O[C@H]2C(=O)CC[C@H]3[C@H]1C5)O\n",
      "16 - Charging molecule: COc1cc2c(cc1OC)C(=O)[C@@H](C2)CC3CC[NH+](CC3)Cc4ccccc4\n",
      "17 - Charging molecule: CCCC[NH2+]C\n",
      "18 - Charging molecule: C[C@H](CC=C)C(=O)[O-]\n",
      "19 - Charging molecule: Cc1ccc(c(c1)[C@H](CC[NH+](C(C)C)C(C)C)c2ccccc2)O\n",
      "20 - Charging molecule: C[C@@H](CCC=C(C)C)CC(=O)[O-]\n",
      "21 - Charging molecule: c1ccc(cc1)C2(CCCCC2)[NH+]3CCCCC3\n",
      "22 - Charging molecule: C[N@H+]1[C@H]2CC[C@@H]1[C@H]([C@H](C2)OC(=O)c3ccccc3)C(=O)OC\n",
      "23 - Charging molecule: C1CCCC(CCC1)[NH3+]\n",
      "24 - Charging molecule: CCCCCC[C@H](C)[NH3+]\n",
      "25 - Charging molecule: C=CCCCCC(=O)[O-]\n",
      "26 - Charging molecule: CCCCC[NH3+]\n",
      "27 - Charging molecule: C[C@@H](Cc1ccccc1)[NH2+]C\n",
      "28 - Charging molecule: Cc1cccc(c1)CC(=O)[O-]\n",
      "29 - Charging molecule: CCCC(=O)[O-]\n",
      "30 - Charging molecule: C(CCCO)CC[NH3+]\n",
      "31 - Charging molecule: CCCCC[C@@H](C)[NH3+]\n",
      "32 - Charging molecule: c1cc(cc(c1)[N+](=O)[O-])C(=O)[O-]\n",
      "33 - Charging molecule: C1[C@@H]2CC3C[C@H]1CC3(C2)[NH3+]\n",
      "34 - Charging molecule: Cc1ccc(cc1)CC(=O)[O-]\n",
      "35 - Charging molecule: C[C@]12CC[C@H](C1(C)C)C[C@H]2[NH3+]\n",
      "36 - Charging molecule: C#CCCCC(=O)[O-]\n",
      "37 - Charging molecule: c1ccc(cc1)CCCC(=O)[O-]\n",
      "38 - Charging molecule: CC[N+](CC)(CC)CCOc1cccc(c1OCC[N+](CC)(CC)CC)OCC[N+](CC)(CC)CC\n",
      "39 - Charging molecule: C1CCC(C1)C(=O)[O-]\n",
      "40 - Charging molecule: C1CN(CCN1)CC[NH3+]\n",
      "41 - Charging molecule: CC(C)(C)C[NH3+]\n",
      "42 - Charging molecule: c1ccc(cc1)CC(=O)[O-]\n",
      "43 - Charging molecule: CCCCCC(=O)[O-]\n",
      "44 - Charging molecule: c1cc(ccc1C#N)C(=O)[O-]\n",
      "45 - Charging molecule: C[C@@]12CC[C@@H](C1(C)C)C[C@@H]2[NH3+]\n",
      "46 - Charging molecule: C1CCCC(CC1)C(=O)[O-]\n",
      "47 - Charging molecule: C[NH+](C)CCC[C@@]1(c2ccc(cc2CO1)C#N)c3ccc(cc3)F\n",
      "48 - Charging molecule: COc1ccc2c(c1)c(ccn2)[C@H]([C@@H]3C[C@@H]4CC[N@H+]3C[C@@H]4C=C)O\n",
      "49 - Charging molecule: CC1CCC(CC1)C(=O)[O-]\n",
      "50 - Charging molecule: CCC(=O)N(c1ccccc1)C2CC[NH+](CC2)CCc3ccccc3\n",
      "51 - Charging molecule: CC/C=C/CC(=O)[O-]\n",
      "52 - Charging molecule: C1CC(CCC1[NH3+])O\n",
      "53 - Charging molecule: c1cc(cc(c1)Cl)C(=O)[O-]\n",
      "54 - Charging molecule: COc1cccc(c1)CC(=O)[O-]\n",
      "55 - Charging molecule: C1CCC(CC1)C(=O)[O-]\n",
      "56 - Charging molecule: Cc1ccc(cc1)C(=O)[O-]\n",
      "57 - Charging molecule: C1CCCC(CC1)[NH3+]\n",
      "58 - Charging molecule: c1cc(ccc1C[NH3+])C[NH3+]\n",
      "59 - Charging molecule: CC(=C)[C@H]1CCC(=CC1)C(=O)[O-]\n",
      "60 - Charging molecule: C1C[C@@H]2C[C@H]1C[C@H]2[NH3+]\n",
      "61 - Charging molecule: CCCCCCCC[NH3+]\n",
      "62 - Charging molecule: CC1(CCCCC1)O\n",
      "63 - Charging molecule: C=CCCCC(=O)[O-]\n",
      "64 - Charging molecule: C1C2CC3CC1CC(C2)(C3)[NH3+]\n",
      "65 - Charging molecule: COc1ccc(cc1)CC(=O)[O-]\n",
      "66 - Charging molecule: CC1CCC(CC1)O\n",
      "67 - Charging molecule: CCCCCCC[NH3+]\n",
      "68 - Charging molecule: C1CCC(CC1)[NH3+]\n",
      "69 - Charging molecule: CCC[C@@H](C)[NH3+]\n",
      "70 - Charging molecule: CCCCCC[NH3+]\n",
      "71 - Charging molecule: CCC/C=C/C(=O)[O-]\n",
      "72 - Charging molecule: CCCCCCC(=O)[O-]\n",
      "73 - Charging molecule: C[N+](C)(C)CCc1ccccc1\n",
      "74 - Charging molecule: C1CCC(C1)O\n",
      "75 - Charging molecule: c1cc(ccc1C(=O)[O-])Cl\n",
      "76 - Charging molecule: CCCC[NH3+]\n",
      "77 - Charging molecule: CCCCCC[NH2+]C\n",
      "78 - Charging molecule: C1[C@@H]2CC3(C[C@@H](C2Br)CC1C3)C(=O)[O-]\n",
      "79 - Charging molecule: C1CC(C1)O\n",
      "80 - Charging molecule: C1[C@@H]2CC3(C[C@H]1CC(C2)(C3)O)[NH3+]\n",
      "81 - Charging molecule: C1CC[C@H]([C@@H](C1)[NH3+])[NH3+]\n",
      "82 - Charging molecule: C1CC(CCC1[NH3+])[NH3+]\n",
      "83 - Charging molecule: C1CCCC(CC1)O\n",
      "84 - Charging molecule: C(CCC[NH3+])CC[NH3+]\n"
     ]
    }
   ],
   "source": [
    "for id, smiles in enumerate(guest_smiles):\n",
    "    print(f\"{id} - Charging molecule: {smiles}\")\n",
    "    guest_uncharged = Molecule.from_smiles(smiles)\n",
    "    guest_charged = charge_guest_molecule(guest_uncharged)\n",
    "    \n",
    "    add_molecule_to_library_charge(library_charge_handler, guest_charged)\n",
    "    \n",
    "    total_charge = guest_charged.partial_charges.sum().value_in_unit(unit.elementary_charge)"
   ]
  },
  {
   "cell_type": "markdown",
   "metadata": {},
   "source": [
    "### Charge host molecules"
   ]
  },
  {
   "cell_type": "code",
   "execution_count": 9,
   "metadata": {},
   "outputs": [],
   "source": [
    "host_mol2 = []\n",
    "for data in data_set.properties:\n",
    "    mol2_path = data.metadata[\"host_file_paths\"][\"host_mol2_path\"]\n",
    "    if mol2_path not in host_mol2:\n",
    "        host_mol2.append(mol2_path)"
   ]
  },
  {
   "cell_type": "code",
   "execution_count": 10,
   "metadata": {},
   "outputs": [
    {
     "name": "stdout",
     "output_type": "stream",
     "text": [
      "Charging molecule: -8.00 [H]c1c(c(c2c(c1Oc3c(c4c(c(c3[H])Oc5c(c(c(c(c5[H])Oc6c(c7c(c(c6[H])Oc8c(c(c(c(c8[H])Oc9c(c1c(c(c9[H])Oc3c(c(c(c(c3[H])Oc3c(c(c(c(c3[H])O2)[H])C2(Oc3c(c5c6c(c3C(c3c(c8c(c(c3O2)[H])OC1(Oc1c(c2c(c(c1C8([H])C([H])([H])C([H])([H])C(=O)[O-])[H])C(c1c(c(c(c(c1OC7(O2)[H])[H])OC4(O5)[H])C6([H])C([H])([H])C([H])([H])C(=O)[O-])[H])([H])C([H])([H])C([H])([H])C(=O)[O-])[H])[H])[H])([H])C([H])([H])C([H])([H])C(=O)[O-])[H])[H])[H])[H])[H])C(=O)[O-])[H])[H])[H])[H])C(=O)[O-])[H])[H])[H])[H])C(=O)[O-])[H])[H])[H])[H])[H])C(=O)[O-]\n",
      "Charging molecule: -0.00 [H][C@@]1([C@]2([C@@](O[C@@]([C@]1([H])O[H])(O[C@]3([C@]([C@@]([C@@](O[C@]4([C@]([C@@]([C@@](O[C@]5([C@]([C@@]([C@@](O[C@]6([C@]([C@@]([C@@](O[C@]7([C@]([C@@]([C@@](O[C@]8([C@]([C@@]([C@@](O2)(O[C@]8([H])C([H])([H])O[H])[H])([H])O[H])([H])O[H])[H])(O[C@]7([H])C([H])([H])O[H])[H])([H])O[H])([H])O[H])[H])(O[C@]6([H])C([H])([H])O[H])[H])([H])O[H])([H])O[H])[H])(O[C@]5([H])C([H])([H])O[H])[H])([H])O[H])([H])O[H])[H])(O[C@]4([H])C([H])([H])O[H])[H])([H])O[H])([H])O[H])[H])(O[C@]3([H])C([H])([H])O[H])[H])([H])O[H])([H])O[H])[H])[H])([H])C([H])([H])O[H])[H])N([H])C(=O)C([H])([H])C([H])([H])C(=O)N([H])C([H])([H])C([H])([H])C([H])([H])C([H])([H])[C@@]([H])(C(=O)[O-])[N+]([H])([H])[H]\n",
      "Charging molecule: -2.00 [H][C@@]1([C@]2([C@@](O[C@@]([C@]1([H])O[H])(O[C@]3([C@]([C@@]([C@@](O[C@]4([C@]([C@@]([C@@](O[C@]5([C@]([C@@]([C@@](O[C@]6([C@]([C@@]([C@@](O[C@]7([C@]([C@@]([C@@](O[C@]8([C@]([C@@]([C@@](O2)(O[C@]8([H])C([H])([H])O[H])[H])([H])O[H])([H])O[H])[H])(O[C@]7([H])C([H])([H])O[H])[H])([H])O[H])([H])O[H])[H])(O[C@]6([H])C([H])([H])O[H])[H])([H])O[H])([H])O[H])[H])(O[C@]5([H])C([H])([H])O[H])[H])([H])O[H])([H])O[H])[H])(O[C@]4([H])C([H])([H])O[H])[H])([H])O[H])([H])O[H])[H])(O[C@]3([H])C([H])([H])O[H])[H])([H])O[H])([H])O[H])[H])[H])([H])C([H])([H])O[H])[H])N([H])C(=O)C([H])([H])C([H])([H])C(=O)N([H])[C@]([H])(C(=O)[O-])C([H])([H])C([H])([H])C(=O)N([H])[C@@]([H])(C(=O)N([H])C([H])([H])C(=O)[O-])C([H])([H])S[H]\n",
      "Charging molecule: 1.00 [H][C@@]1([C@]2([C@@](O[C@@]([C@]1([H])O[H])(O[C@]3([C@]([C@@]([C@@](O[C@]4([C@]([C@@]([C@@](O[C@]5([C@]([C@@]([C@@](O[C@]6([C@]([C@@]([C@@](O[C@]7([C@]([C@@]([C@@](O[C@]8([C@]([C@@]([C@@](O2)(O[C@]8([H])C([H])([H])O[H])[H])([H])O[H])([H])O[H])[H])(O[C@]7([H])C([H])([H])O[H])[H])([H])O[H])([H])O[H])[H])(O[C@]6([H])C([H])([H])O[H])[H])([H])O[H])([H])O[H])[H])(O[C@]5([H])C([H])([H])O[H])[H])([H])O[H])([H])O[H])[H])(O[C@]4([H])C([H])([H])O[H])[H])([H])O[H])([H])O[H])[H])(O[C@]3([H])C([H])([H])O[H])[H])([H])O[H])([H])O[H])[H])[H])([H])C([H])([H])O[H])[H])N([H])C(=O)C([H])([H])[N+]([H])([H])[H]\n",
      "Charging molecule: -1.00 [H]/C(=C(\\[H])/C(=O)[O-])/C(=O)N([H])[C@]1([C@]2([C@@](O[C@@]([C@]1([H])O[H])(O[C@]3([C@]([C@@]([C@@](O[C@]4([C@]([C@@]([C@@](O[C@]5([C@]([C@@]([C@@](O[C@]6([C@]([C@@]([C@@](O[C@]7([C@]([C@@]([C@@](O[C@]8([C@]([C@@]([C@@](O2)(O[C@]8([H])C([H])([H])O[H])[H])([H])O[H])([H])O[H])[H])(O[C@]7([H])C([H])([H])O[H])[H])([H])O[H])([H])O[H])[H])(O[C@]6([H])C([H])([H])O[H])[H])([H])O[H])([H])O[H])[H])(O[C@]5([H])C([H])([H])O[H])[H])([H])O[H])([H])O[H])[H])(O[C@]4([H])C([H])([H])O[H])[H])([H])O[H])([H])O[H])[H])(O[C@]3([H])C([H])([H])O[H])[H])([H])O[H])([H])O[H])[H])[H])([H])C([H])([H])O[H])[H])[H]\n",
      "Charging molecule: -1.00 [H][C@@]1([C@]2([C@@](O[C@@]([C@]1([H])O[H])(O[C@]3([C@]([C@@]([C@@](O[C@]4([C@]([C@@]([C@@](O[C@]5([C@]([C@@]([C@@](O[C@]6([C@]([C@@]([C@@](O[C@]7([C@]([C@@]([C@@](O[C@]8([C@]([C@@]([C@@](O2)(O[C@]8([H])C([H])([H])O[H])[H])([H])O[H])([H])O[H])[H])(O[C@]7([H])C([H])([H])O[H])[H])([H])O[H])([H])O[H])[H])(O[C@]6([H])C([H])([H])O[H])[H])([H])O[H])([H])O[H])[H])(O[C@]5([H])C([H])([H])O[H])[H])([H])O[H])([H])O[H])[H])(O[C@]4([H])C([H])([H])O[H])[H])([H])O[H])([H])O[H])[H])(O[C@]3([H])C([H])([H])O[H])[H])([H])O[H])([H])O[H])[H])[H])([H])C([H])([H])O[H])[H])N([H])C(=O)C([H])([H])C([H])([H])C(=O)[O-]\n",
      "Charging molecule: 0.00 [H][C@]12[C@]3([C@@]([C@@](C(C3([H])[H])([H])[H])([H])[C@]([H])(C([H])([H])[H])C([H])([H])C([H])([H])C(=O)N([H])[C@]4([C@]5([C@@](O[C@@]([C@]4([H])O[H])(O[C@]6([C@]([C@@]([C@@](O[C@]7([C@]([C@@]([C@@](O[C@]8([C@]([C@@]([C@@](O[C@]9([C@]([C@@]([C@@](O[C@]3([C@]([C@@]([C@@](O[C@]4([C@]([C@@]([C@@](O5)(O[C@]4([H])C([H])([H])O[H])[H])([H])O[H])([H])O[H])[H])(O[C@]3([H])C([H])([H])O[H])[H])([H])O[H])([H])O[H])[H])(O[C@]9([H])C([H])([H])O[H])[H])([H])O[H])([H])O[H])[H])(O[C@]8([H])C([H])([H])O[H])[H])([H])O[H])([H])O[H])[H])(O[C@]7([H])C([H])([H])O[H])[H])([H])O[H])([H])O[H])[H])(O[C@]6([H])C([H])([H])O[H])[H])([H])O[H])([H])O[H])[H])[H])([H])C([H])([H])O[H])[H])[H])([C@@](C([C@@]1([C@@]1([C@](C([C@@]2([H])O[H])([H])[H])(C([C@](C(C1([H])[H])([H])[H])([H])O[H])([H])[H])[H])C([H])([H])[H])[H])([H])[H])([H])O[H])C([H])([H])[H])[H]\n",
      "Charging molecule: -0.00 [H]C1(N2C(=O)N3C(N4C(=O)N5C(N6C(=O)N7C(N8C(=O)N9C(N%10C(=O)N%11C(N%12C(=O)N%13C(N%14C(=O)N1C1(C%14(N%14C(=O)N1C(N1C2(C3(N(C1=O)C(N1C4(C5(N(C1=O)C(N1C6(C7(N(C1=O)C(N1C8(C9(N(C1=O)C(N1C%10(C%11(N(C1=O)C(N1C%12(C%13(N(C1=O)C%14([H])[H])[H])[H])([H])[H])[H])[H])([H])[H])[H])[H])([H])[H])[H])[H])([H])[H])[H])[H])([H])[H])[H])[H])([H])[H])[H])[H])([H])[H])([H])[H])([H])[H])([H])[H])([H])[H])([H])[H])[H]\n",
      "Charging molecule: -0.00 [H]C1(N2C(=O)N3C(N4C(=O)N5C(N6C(=O)N7C(N8C(=O)N9C(N%10C(=O)N%11C(N%12C(=O)N%13C(N%14C(=O)N%15C(N%16C(=O)N1C1(C%16(N%16C(=O)N1C(N1C2(C3(N(C1=O)C(N1C4(C5(N(C1=O)C(N1C6(C7(N(C1=O)C(N1C8(C9(N(C1=O)C(N1C%10(C%11(N(C1=O)C(N1C%12(C%13(N(C1=O)C(N1C%14(C%15(N(C1=O)C%16([H])[H])[H])[H])([H])[H])[H])[H])([H])[H])[H])[H])([H])[H])[H])[H])([H])[H])[H])[H])([H])[H])[H])[H])([H])[H])[H])[H])([H])[H])[H])[H])([H])[H])([H])[H])([H])[H])([H])[H])([H])[H])([H])[H])([H])[H])[H]\n",
      "Charging molecule: 1.00 [H]c1c(c(c(c(c1[C@]([H])(C([H])([H])C(=O)N([H])C([H])([H])[C@@]2([C@@]3([C@]([C@@]([C@](O2)(O[C@]4([C@]([C@@]([C@@](O[C@]5([C@]([C@@]([C@@](O[C@]6([C@]([C@@]([C@@](O[C@]7([C@]([C@@]([C@@](O[C@]8([C@]([C@@]([C@@](O[C@]9([C@]([C@@]([C@@](O3)(O[C@]9([H])C([H])([H])O[H])[H])([H])O[H])([H])O[H])[H])(O[C@]8([H])C([H])([H])O[H])[H])([H])O[H])([H])O[H])[H])(O[C@]7([H])C([H])([H])O[H])[H])([H])O[H])([H])O[H])[H])(O[C@]6([H])C([H])([H])O[H])[H])([H])O[H])([H])O[H])[H])(O[C@]5([H])C([H])([H])O[H])[H])([H])O[H])([H])O[H])[H])(O[C@]4([H])C([H])([H])O[H])[H])([H])O[H])([H])O[H])[H])[H])([H])O[H])([H])O[H])[H])[H])[N+]([H])([H])[H])[H])[H])O[H])[H]\n",
      "Charging molecule: -0.00 [H][C@@]12[C@]([C@@]([C@@](O[C@]3([C@]([C@@]([C@@](O[C@]4([C@]([C@@]([C@@](O[C@]5([C@]([C@@]([C@@](O[C@]6([C@]([C@@]([C@@](O[C@]7([C@]([C@@]([C@@](O[C@]8([C@]([C@@]([C@@](O1)(O[C@]8([H])C([H])([H])O[H])[H])([H])O[H])([H])O[H])[H])(O[C@]7([H])C([H])([H])O[H])[H])([H])O[H])([H])O[H])[H])(O[C@]6([H])C([H])([H])O[H])[H])([H])O[H])([H])O[H])[H])(O[C@]5([H])C([H])([H])O[H])[H])([H])O[H])([H])O[H])[H])(O[C@]4([H])C([H])([H])O[H])[H])([H])O[H])([H])O[H])[H])(O[C@]3([H])C([H])([H])O[H])[H])([H])O[H])([H])O[H])[H])(O[C@]2([H])C([H])([H])O[H])[H])([H])O[H])([H])O[H]\n",
      "Charging molecule: -8.00 [H]c1c(c(c2c(c1Oc3c(c4c(c(c3[H])Oc5c(c(c(c(c5C([H])([H])[H])Oc6c(c7c(c(c6[H])Oc8c(c(c(c(c8C([H])([H])[H])Oc9c(c1c(c(c9[H])Oc3c(c(c(c(c3C([H])([H])[H])Oc3c(c(c(c(c3[H])O2)[H])C2(Oc3c(c5c6c(c3C(c3c(c8c(c(c3O2)[H])OC1(Oc1c(c2c(c(c1C8([H])C([H])([H])C([H])([H])C(=O)[O-])[H])C(c1c(c(c(c(c1OC7(O2)[H])[H])OC4(O5)[H])C6([H])C([H])([H])C([H])([H])C(=O)[O-])[H])([H])C([H])([H])C([H])([H])C(=O)[O-])[H])[H])[H])([H])C([H])([H])C([H])([H])C(=O)[O-])[H])[H])[H])[H])[H])C(=O)[O-])[H])[H])[H])[H])C(=O)[O-])[H])[H])[H])[H])C(=O)[O-])[H])[H])[H])C([H])([H])[H])[H])C(=O)[O-]\n",
      "Charging molecule: -1.00 [H][C@@]12[C@]([C@@]([C@@](O[C@]3([C@]([C@@]([C@@](O[C@]4([C@]([C@@]([C@@](O[C@]5([C@]([C@@]([C@@](O[C@]6([C@]([C@@]([C@@](O[C@]7([C@]([C@@]([C@@](O[C@]8([C@]([C@@]([C@@](O1)(O[C@]8([H])C([H])([H])O[H])[H])([H])O[H])([H])O[H])[H])(O[C@]7([H])C([H])([H])O[H])[H])([H])O[H])([H])O[H])[H])(O[C@]6([H])C([H])([H])O[H])[H])([H])O[H])([H])O[H])[H])(O[C@]5([H])C([H])([H])O[H])[H])([H])O[H])([H])O[H])[H])(O[C@]4([H])C([H])([H])O[H])[H])([H])O[H])([H])O[H])[H])(O[C@]3([H])C([H])([H])O[H])[H])([H])O[H])([H])O[H])[H])(O[C@]2([H])C([H])([H])N([H])C(=O)C([H])([H])C([H])([H])C(=O)[O-])[H])([H])O[H])([H])O[H]\n",
      "Charging molecule: -0.00 [H][C@@]12[C@]([C@@]([C@@](O[C@]3([C@]([C@@]([C@@](O[C@]4([C@]([C@@]([C@@](O[C@]5([C@]([C@@]([C@@](O[C@]6([C@]([C@@]([C@@](O[C@]7([C@]([C@@]([C@@](O1)(O[C@]7([H])C([H])([H])O[H])[H])([H])O[H])([H])O[H])[H])(O[C@]6([H])C([H])([H])O[H])[H])([H])O[H])([H])O[H])[H])(O[C@]5([H])C([H])([H])O[H])[H])([H])O[H])([H])O[H])[H])(O[C@]4([H])C([H])([H])O[H])[H])([H])O[H])([H])O[H])[H])(O[C@]3([H])C([H])([H])O[H])[H])([H])O[H])([H])O[H])[H])(O[C@]2([H])C([H])([H])O[H])[H])([H])O[H])([H])O[H]\n"
     ]
    }
   ],
   "source": [
    "for mol2 in host_mol2:\n",
    "    print(f\"Charging molecule: {mol2}\")\n",
    "    host_uncharged = Molecule.from_file(mol2)\n",
    "    host_charged = charge_host_molecule(guest_uncharged)\n",
    "    #host_charged = Molecule.from_file(mol2)\n",
    "    smiles = host_charged.to_smiles()\n",
    "    \n",
    "    add_molecule_to_library_charge(library_charge_handler, host_charged)\n",
    "    \n",
    "    total_charge = host_charged.partial_charges.sum().value_in_unit(unit.elementary_charge)"
   ]
  },
  {
   "cell_type": "markdown",
   "metadata": {},
   "source": [
    "### Save Charges to file"
   ]
  },
  {
   "cell_type": "code",
   "execution_count": 11,
   "metadata": {},
   "outputs": [],
   "source": [
    "force_field = ForceField(aromaticity_model=DEFAULT_AROMATICITY_MODEL)\n",
    "force_field.register_parameter_handler(library_charge_handler)\n",
    "force_field.to_file(\"taproom_AM1BCCELF10_charges.offxml\")"
   ]
  },
  {
   "cell_type": "code",
   "execution_count": null,
   "metadata": {},
   "outputs": [],
   "source": []
  }
 ],
 "metadata": {
  "kernelspec": {
   "display_name": "Python 3 (ipykernel)",
   "language": "python",
   "name": "python3"
  },
  "language_info": {
   "codemirror_mode": {
    "name": "ipython",
    "version": 3
   },
   "file_extension": ".py",
   "mimetype": "text/x-python",
   "name": "python",
   "nbconvert_exporter": "python",
   "pygments_lexer": "ipython3",
   "version": "3.8.10"
  }
 },
 "nbformat": 4,
 "nbformat_minor": 4
}
