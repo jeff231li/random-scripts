{
 "cells": [
  {
   "cell_type": "markdown",
   "metadata": {},
   "source": [
    "# A minimal example of creating a custom LJ potential with WCA perturbation\n",
    "This notebook shows an example of moving the LJ potential from `NonbondedForce` to `CustomNonbondedForce` for a butane molecule in vacuum. The parameters for the molecule are obtained from GAFF."
   ]
  },
  {
   "cell_type": "code",
   "execution_count": 1,
   "metadata": {},
   "outputs": [],
   "source": [
    "from simtk.openmm.app import *\n",
    "from simtk.openmm import *\n",
    "import simtk.unit as unit\n",
    "import numpy as np\n",
    "import matplotlib.pyplot as plt\n",
    "from MDAnalysis.coordinates.DCD import DCDFile"
   ]
  },
  {
   "cell_type": "markdown",
   "metadata": {},
   "source": [
    "## Load Amber topology and create OpenMM System"
   ]
  },
  {
   "cell_type": "code",
   "execution_count": 2,
   "metadata": {},
   "outputs": [],
   "source": [
    "prmtop = AmberPrmtopFile('butane.prmtop')\n",
    "inpcrd = AmberInpcrdFile('butane.rst7')"
   ]
  },
  {
   "cell_type": "code",
   "execution_count": 3,
   "metadata": {},
   "outputs": [],
   "source": [
    "system = prmtop.createSystem(\n",
    "    nonbondedMethod=NoCutoff,\n",
    "    constraints=HBonds,\n",
    ")\n",
    "forces = {system.getForce(index).__class__.__name__: system.getForce(index) for index in range(system.getNumForces())}\n",
    "nonbonded_force = forces['NonbondedForce']"
   ]
  },
  {
   "cell_type": "markdown",
   "metadata": {},
   "source": [
    "## Calculate the potential energy with the current LJ"
   ]
  },
  {
   "cell_type": "code",
   "execution_count": 6,
   "metadata": {},
   "outputs": [],
   "source": [
    "integrator = LangevinIntegrator(298.15 * unit.kelvin, 1.0 / unit.picoseconds, 2.0 * unit.femtosecond)\n",
    "simulation = Simulation(\n",
    "    prmtop.topology, \n",
    "    system, \n",
    "    integrator,\n",
    "    openmm.Platform.getPlatformByName('CPU'),\n",
    ")\n",
    "simulation.context.setPositions(inpcrd.positions)"
   ]
  },
  {
   "cell_type": "code",
   "execution_count": 7,
   "metadata": {},
   "outputs": [],
   "source": [
    "total_energy = simulation.context.getState(getEnergy=True, groups={0})\n",
    "energy_original = total_energy.getPotentialEnergy() / unit.kilocalorie_per_mole"
   ]
  },
  {
   "cell_type": "markdown",
   "metadata": {},
   "source": [
    "Potential over trajectories"
   ]
  },
  {
   "cell_type": "code",
   "execution_count": 8,
   "metadata": {},
   "outputs": [],
   "source": [
    "potential_energy = {\"nonbonded\": [], \"custom\": []}"
   ]
  },
  {
   "cell_type": "code",
   "execution_count": 9,
   "metadata": {},
   "outputs": [],
   "source": [
    "with DCDFile(\"thermalisation.dcd\") as dcd:\n",
    "    header = dcd.header\n",
    "\n",
    "    for xyz, box in zip(dcd.readframes()[0], dcd.readframes()[1]):        \n",
    "        simulation.context.setPositions(xyz * unit.angstrom)\n",
    "        \n",
    "        lennard_jones = simulation.context.getState(getEnergy=True, groups={0})\n",
    "        lennard_jones = lennard_jones.getPotentialEnergy() / unit.kilocalories_per_mole\n",
    "\n",
    "        potential_energy[\"nonbonded\"].append(lennard_jones)\n",
    "\n",
    "potential_energy[\"nonbonded\"] = np.array(potential_energy[\"nonbonded\"])"
   ]
  },
  {
   "cell_type": "markdown",
   "metadata": {},
   "source": [
    "## Create new CustomNonbondedForce\n",
    "Example here is to replace the 12-6 LJ potential in `NonbondedForce` and move it to `CustomNonbondedForce`."
   ]
  },
  {
   "cell_type": "code",
   "execution_count": 10,
   "metadata": {},
   "outputs": [],
   "source": [
    "def add_custom_LJ(system):\n",
    "    nonbonded = [force for force in system.getForces() if isinstance(force, NonbondedForce)][0]\n",
    "    \n",
    "    LJ_potential = \"4*epsilon*((sigma/r)^12-(sigma/r)^6); \"\n",
    "    Lorentz_Berthelot = \"sigma=0.5*(sigma1+sigma2); epsilon=sqrt(epsilon1*epsilon2)\"\n",
    "    \n",
    "    LJ_new = CustomNonbondedForce(LJ_potential + Lorentz_Berthelot)\n",
    "    LJ_new.addPerParticleParameter(\"sigma\")\n",
    "    LJ_new.addPerParticleParameter(\"epsilon\")\n",
    "    LJ_new.setNonbondedMethod(CustomNonbondedForce.NoCutoff)\n",
    "\n",
    "    # Set LJ parameters\n",
    "    for atom in range(nonbonded.getNumParticles()):\n",
    "        [charge, sigma, epsilon] = nonbonded.getParticleParameters(atom)\n",
    "        LJ_new.addParticle([sigma, epsilon])\n",
    "\n",
    "    # Transfer Exclusion\n",
    "    for exception_index in range(nonbonded.getNumExceptions()):\n",
    "        iatom, jatom, chargeprod, sigma, epsilon = nonbonded.getExceptionParameters(exception_index)\n",
    "        LJ_new.addExclusion(iatom, jatom)\n",
    "\n",
    "    system.addForce(LJ_new)"
   ]
  },
  {
   "cell_type": "code",
   "execution_count": 11,
   "metadata": {},
   "outputs": [],
   "source": [
    "def add_wca_repulsive(system, lambda_value=1.0):\n",
    "    nonbonded = [force for force in system.getForces() if isinstance(force, NonbondedForce)][0]\n",
    "    \n",
    "    wca_repulsive = CustomNonbondedForce(\n",
    "        \"step(2^(1/6)*sigma - r) * U_sterics;\"\n",
    "        \"U_sterics=(lambda^softcore_a)*(4*epsilon*x*(x-1.0) + epsilon);\"\n",
    "        \"x=(sigma/reff_sterics)^6;\"\n",
    "        \"reff_sterics=sigma*((softcore_alpha*(1.0 - lambda)^softcore_b + (r/sigma)^softcore_c))^(1/softcore_c);\"\n",
    "        \"sigma=0.5*(sigma1+sigma2);\"\n",
    "        \"epsilon=sqrt(epsilon1*epsilon2)\"\n",
    "    )\n",
    "    wca_repulsive.addGlobalParameter(\"lambda\", lambda_value)\n",
    "    wca_repulsive.addGlobalParameter(\"softcore_alpha\", 0.5)\n",
    "    wca_repulsive.addGlobalParameter(\"softcore_a\", 1)\n",
    "    wca_repulsive.addGlobalParameter(\"softcore_b\", 1)\n",
    "    wca_repulsive.addGlobalParameter(\"softcore_c\", 6)\n",
    "    wca_repulsive.addEnergyParameterDerivative(\"lambda\")\n",
    "    wca_repulsive.addPerParticleParameter(\"sigma\")\n",
    "    wca_repulsive.addPerParticleParameter(\"epsilon\")\n",
    "    wca_repulsive.setNonbondedMethod(CustomNonbondedForce.CutoffPeriodic)\n",
    "    wca_repulsive.setCutoffDistance(nonbonded.getCutoffDistance())\n",
    "    wca_repulsive.setUseLongRangeCorrection(nonbonded.getUseDispersionCorrection())\n",
    "\n",
    "    # Set LJ parameters\n",
    "    for atom in range(nonbonded.getNumParticles()):\n",
    "        wca_repulsive.addParticle(nonbonded.getParticleParameters(atom)[1:])\n",
    "\n",
    "    # Transfer Exclusion\n",
    "    for exception_index in range(nonbonded.getNumExceptions()):\n",
    "        iatom, jatom, chargeprod, sigma, epsilon = nonbonded.getExceptionParameters(exception_index)\n",
    "        wca_repulsive.addExclusion(iatom, jatom)\n",
    "\n",
    "    system.addForce(wca_repulsive)"
   ]
  },
  {
   "cell_type": "code",
   "execution_count": 12,
   "metadata": {},
   "outputs": [],
   "source": [
    "def add_wca_dispersive(system, lambda_value=1.0):\n",
    "    nonbonded = [force for force in system.getForces() if isinstance(force, NonbondedForce)][0]\n",
    "    \n",
    "    wca_dispersive = CustomNonbondedForce(\n",
    "        \"(step(2^(1/6)*sigma - r) * -1*epsilon) + (step(r - 2^(1/6)*sigma) * U_sterics);\"\n",
    "        \"U_sterics=(lambda^softcore_a)*4*epsilon*x*(x-1.0);\"\n",
    "        \"x=(sigma/reff_sterics)^6;\"\n",
    "        \"reff_sterics=sigma*((softcore_alpha*(1.0 - lambda)^softcore_b + (r/sigma)^softcore_c))^(1/softcore_c);\"\n",
    "        \"sigma=0.5*(sigma1+sigma2);\"\n",
    "        \"epsilon=sqrt(epsilon1*epsilon2)\"\n",
    "    )\n",
    "    wca_dispersive.addGlobalParameter(\"lambda\", lambda_value)\n",
    "    wca_dispersive.addGlobalParameter(\"softcore_alpha\", 0.5)\n",
    "    wca_dispersive.addGlobalParameter(\"softcore_a\", 1)\n",
    "    wca_dispersive.addGlobalParameter(\"softcore_b\", 1)\n",
    "    wca_dispersive.addGlobalParameter(\"softcore_c\", 6)\n",
    "    wca_dispersive.addEnergyParameterDerivative(\"lambda\")\n",
    "    wca_dispersive.addPerParticleParameter(\"sigma\")\n",
    "    wca_dispersive.addPerParticleParameter(\"epsilon\")\n",
    "    wca_dispersive.setNonbondedMethod(CustomNonbondedForce.CutoffPeriodic)\n",
    "    wca_dispersive.setCutoffDistance(nonbonded.getCutoffDistance())\n",
    "    wca_dispersive.setUseLongRangeCorrection(nonbonded.getUseDispersionCorrection())\n",
    "\n",
    "    # Set LJ parameters\n",
    "    for atom in range(nonbonded.getNumParticles()):\n",
    "        wca_dispersive.addParticle(nonbonded.getParticleParameters(atom)[1:])\n",
    "\n",
    "    # Transfer Exclusion\n",
    "    for exception_index in range(nonbonded.getNumExceptions()):\n",
    "        iatom, jatom, chargeprod, sigma, epsilon = nonbonded.getExceptionParameters(exception_index)\n",
    "        wca_dispersive.addExclusion(iatom, jatom)\n",
    "\n",
    "    system.addForce(wca_dispersive)"
   ]
  },
  {
   "cell_type": "code",
   "execution_count": 13,
   "metadata": {},
   "outputs": [],
   "source": [
    "# add_custom_LJ(system)\n",
    "add_wca_repulsive(system)\n",
    "add_wca_dispersive(system)"
   ]
  },
  {
   "cell_type": "markdown",
   "metadata": {},
   "source": [
    "## Set LJ parameters in `NonbondedForce` to Zero\n",
    "Since we only want `CustomNonbondedForce` to take care of the LJ potential"
   ]
  },
  {
   "cell_type": "code",
   "execution_count": 14,
   "metadata": {},
   "outputs": [],
   "source": [
    "for atom in range(system.getNumParticles()):\n",
    "    current_parameters = nonbonded_force.getParticleParameters(atom)\n",
    "    nonbonded_force.setParticleParameters(atom, current_parameters[0], 0.0, 0.0)"
   ]
  },
  {
   "cell_type": "markdown",
   "metadata": {},
   "source": [
    "## Calculate the energy with the new LJ"
   ]
  },
  {
   "cell_type": "code",
   "execution_count": 15,
   "metadata": {},
   "outputs": [],
   "source": [
    "integrator = LangevinIntegrator(298.15 * unit.kelvin, 1.0 / unit.picoseconds, 2.0 * unit.femtosecond)\n",
    "simulation = Simulation(\n",
    "    prmtop.topology, \n",
    "    system, \n",
    "    integrator,\n",
    "    openmm.Platform.getPlatformByName('CPU'),\n",
    ")\n",
    "simulation.context.setPositions(inpcrd.positions)"
   ]
  },
  {
   "cell_type": "code",
   "execution_count": 16,
   "metadata": {},
   "outputs": [],
   "source": [
    "total_energy = simulation.context.getState(getEnergy=True, groups={0})\n",
    "energy_custom = total_energy.getPotentialEnergy() / unit.kilocalorie_per_mole"
   ]
  },
  {
   "cell_type": "markdown",
   "metadata": {},
   "source": [
    "Potential over trajectories"
   ]
  },
  {
   "cell_type": "code",
   "execution_count": 17,
   "metadata": {},
   "outputs": [],
   "source": [
    "with DCDFile(\"thermalisation.dcd\") as dcd:\n",
    "    header = dcd.header\n",
    "\n",
    "    for xyz, box in zip(dcd.readframes()[0], dcd.readframes()[1]):        \n",
    "        simulation.context.setPositions(xyz * unit.angstrom)\n",
    "        \n",
    "        lennard_jones = simulation.context.getState(getEnergy=True, groups={0})\n",
    "        lennard_jones = lennard_jones.getPotentialEnergy() / unit.kilocalories_per_mole\n",
    "\n",
    "        potential_energy[\"custom\"].append(lennard_jones)\n",
    "\n",
    "potential_energy[\"custom\"] = np.array(potential_energy[\"custom\"])"
   ]
  },
  {
   "cell_type": "markdown",
   "metadata": {},
   "source": [
    "## Compare Energies"
   ]
  },
  {
   "cell_type": "code",
   "execution_count": 18,
   "metadata": {},
   "outputs": [
    {
     "name": "stdout",
     "output_type": "stream",
     "text": [
      "Total energy of butane:\n",
      " - Original = 2.30706 kcal/mol\n",
      " - Custom   = 2.30070 kcal/mol\n"
     ]
    }
   ],
   "source": [
    "print(\"Total energy of butane:\")\n",
    "print(f\" - Original = {energy_original:.5f} kcal/mol\")\n",
    "print(f\" - Custom   = {energy_custom:.5f} kcal/mol\")"
   ]
  },
  {
   "cell_type": "code",
   "execution_count": 19,
   "metadata": {},
   "outputs": [
    {
     "data": {
      "text/plain": [
       "Text(0.5, 0, 'Frames')"
      ]
     },
     "execution_count": 19,
     "metadata": {},
     "output_type": "execute_result"
    },
    {
     "data": {
      "image/png": "[encoded data removed]",
      "text/plain": [
       "<Figure size 432x288 with 1 Axes>"
      ]
     },
     "metadata": {
      "needs_background": "light"
     },
     "output_type": "display_data"
    }
   ],
   "source": [
    "plt.plot(potential_energy[\"nonbonded\"], label=\"original\")\n",
    "plt.plot(potential_energy[\"custom\"], label=\"custom\")\n",
    "plt.legend()\n",
    "plt.ylabel(\"Energy (kcal/mol)\")\n",
    "plt.xlabel(\"Frames\")"
   ]
  },
  {
   "cell_type": "code",
   "execution_count": null,
   "metadata": {},
   "outputs": [],
   "source": []
  }
 ],
 "metadata": {
  "kernelspec": {
   "display_name": "Python 3",
   "language": "python",
   "name": "python3"
  },
  "language_info": {
   "codemirror_mode": {
    "name": "ipython",
    "version": 3
   },
   "file_extension": ".py",
   "mimetype": "text/x-python",
   "name": "python",
   "nbconvert_exporter": "python",
   "pygments_lexer": "ipython3",
   "version": "3.8.8"
  }
 },
 "nbformat": 4,
 "nbformat_minor": 4
}
