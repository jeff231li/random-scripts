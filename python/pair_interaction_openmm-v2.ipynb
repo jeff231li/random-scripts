{
 "cells": [
  {
   "cell_type": "code",
   "execution_count": 1,
   "metadata": {},
   "outputs": [],
   "source": [
    "import os\n",
    "import json\n",
    "from glob import glob\n",
    "import numpy as np\n",
    "import paprika.io as io\n",
    "import matplotlib.pyplot as plt\n",
    "\n",
    "import simtk.unit as unit\n",
    "from simtk.openmm import XmlSerializer, Platform\n",
    "from simtk.openmm.app import PDBFile, Simulation\n",
    "from simtk.openmm.openmm import CustomNonbondedForce, LangevinIntegrator, MonteCarloBarostat\n",
    "from openmmtools.alchemy import AbsoluteAlchemicalFactory, AlchemicalRegion, AlchemicalState\n",
    "\n",
    "from MDAnalysis.coordinates.DCD import DCDFile"
   ]
  },
  {
   "cell_type": "code",
   "execution_count": 2,
   "metadata": {},
   "outputs": [],
   "source": [
    "def get_simulation_object(sel1, sel2, system_xml, coordinates, pme_treatment=\"direct-space\"):\n",
    "    # Setup Alchemical system\n",
    "    factory = AbsoluteAlchemicalFactory(\n",
    "        consistent_exceptions=True,\n",
    "        disable_alchemical_dispersion_correction=False,\n",
    "        alchemical_pme_treatment=pme_treatment,\n",
    "        split_alchemical_forces=True,\n",
    "    )\n",
    "    alchemical_region = AlchemicalRegion(\n",
    "        alchemical_atoms=sel1,\n",
    "        annihilate_electrostatics=True,\n",
    "        annihilate_sterics=True,\n",
    "    )\n",
    "    system_alch = factory.create_alchemical_system(\n",
    "        system_xml,\n",
    "        alchemical_region,\n",
    "    )\n",
    "    \n",
    "    # Set Interaction groups\n",
    "    alchemical_state = AlchemicalState.from_system(system_alch)\n",
    "    for force in system_alch.getForces():\n",
    "        if isinstance(force, CustomNonbondedForce):\n",
    "            force.setInteractionGroupParameters(0, sel1, sel2)\n",
    "            \n",
    "    # Create Simulation object\n",
    "    simulation = Simulation(\n",
    "        coordinates.topology, \n",
    "        system_alch, \n",
    "        LangevinIntegrator(298.15, 1.0/unit.picoseconds, 4.0*unit.femtosecond),\n",
    "        Platform.getPlatformByName('CUDA'),\n",
    "        {'CudaPrecision': 'mixed'},\n",
    "    )\n",
    "    alchemical_state.lambda_sterics = 1.0\n",
    "    alchemical_state.lambda_electrostatics = 1.0\n",
    "    alchemical_state.apply_to_context(simulation.context)\n",
    "    \n",
    "    return simulation"
   ]
  },
  {
   "cell_type": "code",
   "execution_count": 3,
   "metadata": {},
   "outputs": [],
   "source": [
    "def find_nearest(array, value):\n",
    "    return np.abs(array - value).argmin()"
   ]
  },
  {
   "cell_type": "markdown",
   "metadata": {},
   "source": [
    "## Get indices for host and guest molecules"
   ]
  },
  {
   "cell_type": "code",
   "execution_count": 4,
   "metadata": {},
   "outputs": [],
   "source": [
    "coords = PDBFile(\"windows/p000/restrained.pdb\")"
   ]
  },
  {
   "cell_type": "code",
   "execution_count": 5,
   "metadata": {},
   "outputs": [],
   "source": [
    "host_resname = \"CB7\"\n",
    "guest_resname = \"AMT\"\n",
    "solvent_resname = [\"HOH\", \"Na+\", \"Cl-\"]\n",
    "host_indices = []\n",
    "guest_indices = []\n",
    "solvent_indices = []\n",
    "for atom in coords.getTopology().atoms():\n",
    "    if atom.residue.name == host_resname:\n",
    "        host_indices.append(atom.index)\n",
    "    if atom.residue.name == guest_resname:\n",
    "        guest_indices.append(atom.index)\n",
    "    if atom.residue.name in solvent_resname:\n",
    "        solvent_indices.append(atom.index)"
   ]
  },
  {
   "cell_type": "markdown",
   "metadata": {},
   "source": [
    "Get `G1` and `G2` indices"
   ]
  },
  {
   "cell_type": "code",
   "execution_count": 6,
   "metadata": {},
   "outputs": [],
   "source": [
    "atom1 = None\n",
    "atom2 = None\n",
    "for atom in coords.topology.atoms():\n",
    "    if atom.residue.name == \"DM1\":\n",
    "        atom1 = atom.index\n",
    "    if atom.residue.name == \"AMT\" and atom.name == \"C5\":\n",
    "        atom2 = atom.index"
   ]
  },
  {
   "cell_type": "markdown",
   "metadata": {},
   "source": [
    "## Generate simulation objects for each pair"
   ]
  },
  {
   "cell_type": "markdown",
   "metadata": {},
   "source": [
    "Load topology from p000"
   ]
  },
  {
   "cell_type": "code",
   "execution_count": 7,
   "metadata": {},
   "outputs": [],
   "source": [
    "with open(\"windows/p000/restrained.xml\", \"r\") as f:\n",
    "    system = XmlSerializer.deserialize(f.read())"
   ]
  },
  {
   "cell_type": "code",
   "execution_count": 8,
   "metadata": {},
   "outputs": [],
   "source": [
    "pme_treatment = \"direct-space\""
   ]
  },
  {
   "cell_type": "markdown",
   "metadata": {},
   "source": [
    "Four pair-interactions (Note: complex = host + guests, solvent = water + ions):\n",
    "\n",
    "1. host-guest\n",
    "2. host-solvent\n",
    "3. guest-solvent\n",
    "4. complex-solvent"
   ]
  },
  {
   "cell_type": "code",
   "execution_count": 9,
   "metadata": {},
   "outputs": [],
   "source": [
    "simulation_hg = get_simulation_object(host_indices, guest_indices, system, coords, pme_treatment)\n",
    "simulation_hw = get_simulation_object(host_indices, solvent_indices, system, coords, pme_treatment)\n",
    "simulation_gw = get_simulation_object(guest_indices, solvent_indices, system, coords, pme_treatment)\n",
    "simulation_hgw = get_simulation_object((host_indices+guest_indices), solvent_indices, system, coords, pme_treatment)"
   ]
  },
  {
   "cell_type": "markdown",
   "metadata": {},
   "source": [
    "## Get nonbonded pair-potential energy "
   ]
  },
  {
   "cell_type": "code",
   "execution_count": 10,
   "metadata": {},
   "outputs": [],
   "source": [
    "with open('windows.json', 'r') as f:\n",
    "    json_data = f.read()\n",
    "windows = json.loads(json_data, object_hook=io.json_numpy_obj_hook)\n",
    "windows_list = windows['pull']\n",
    "n_windows = len(windows_list)"
   ]
  },
  {
   "cell_type": "code",
   "execution_count": 11,
   "metadata": {},
   "outputs": [],
   "source": [
    "dr = 0.1\n",
    "r_distance = np.arange(5.5, 24.5+dr, dr)\n",
    "n_counts  = np.zeros(len(r_distance))\n",
    "skip_frames = 10"
   ]
  },
  {
   "cell_type": "code",
   "execution_count": 12,
   "metadata": {},
   "outputs": [],
   "source": [
    "pair_interaction = {\n",
    "    \"host_guest\": {\n",
    "        \"elec\": np.zeros(len(r_distance)), \n",
    "        \"vdw\": np.zeros(len(r_distance)), \n",
    "        \"total\": np.zeros(len(r_distance)),\n",
    "    },\n",
    "    \"host_solvent\": {\n",
    "        \"elec\": np.zeros(len(r_distance)), \n",
    "        \"vdw\": np.zeros(len(r_distance)), \n",
    "        \"total\": np.zeros(len(r_distance)),\n",
    "    },\n",
    "    \"guest_solvent\": {\n",
    "        \"elec\": np.zeros(len(r_distance)), \n",
    "        \"vdw\": np.zeros(len(r_distance)), \n",
    "        \"total\": np.zeros(len(r_distance)),\n",
    "    },\n",
    "    \"host_guest_solvent\": {\n",
    "        \"elec\": np.zeros(len(r_distance)),\n",
    "        \"vdw\": np.zeros(len(r_distance)),\n",
    "        \"total\": np.zeros(len(r_distance)),\n",
    "    },\n",
    "}"
   ]
  },
  {
   "cell_type": "code",
   "execution_count": null,
   "metadata": {},
   "outputs": [
    {
     "name": "stdout",
     "output_type": "stream",
     "text": [
      "Analyzing window p000\n",
      "Analyzing window p001\n"
     ]
    }
   ],
   "source": [
    "for i in range(n_windows):\n",
    "    window = windows_list[i]\n",
    "    print(f\"Analyzing window {window}\")\n",
    "    \n",
    "    for trajectory in glob(f\"windows/{window}/production-v*.dcd\"):\n",
    "        with DCDFile(trajectory) as dcd:\n",
    "            header = dcd.header\n",
    "\n",
    "            for frame in dcd.readframes()[0]:#[::skip_frames]:\n",
    "                r_instance = np.linalg.norm(frame[atom1] - frame[atom2])\n",
    "                idx = find_nearest(r_distance, r_instance)\n",
    "                n_counts[idx] += 1\n",
    "                \n",
    "                simulation_hg.context.setPositions(frame * unit.angstrom)\n",
    "                simulation_hw.context.setPositions(frame * unit.angstrom)\n",
    "                simulation_gw.context.setPositions(frame * unit.angstrom)\n",
    "                simulation_hgw.context.setPositions(frame * unit.angstrom)\n",
    "\n",
    "                pair_interaction[\"host_guest\"][\"elec\"][idx]         += simulation_hg.context.getState(getEnergy=True, groups={1}).getPotentialEnergy() / unit.kilocalorie_per_mole\n",
    "                pair_interaction[\"host_guest\"][\"vdw\"][idx]          += simulation_hg.context.getState(getEnergy=True, groups={2}).getPotentialEnergy() / unit.kilocalorie_per_mole\n",
    "                pair_interaction[\"host_solvent\"][\"elec\"][idx]       += simulation_hw.context.getState(getEnergy=True, groups={1}).getPotentialEnergy() / unit.kilocalorie_per_mole\n",
    "                pair_interaction[\"host_solvent\"][\"vdw\"][idx]        += simulation_hw.context.getState(getEnergy=True, groups={2}).getPotentialEnergy() / unit.kilocalorie_per_mole\n",
    "                pair_interaction[\"guest_solvent\"][\"elec\"][idx]      += simulation_gw.context.getState(getEnergy=True, groups={1}).getPotentialEnergy() / unit.kilocalorie_per_mole\n",
    "                pair_interaction[\"guest_solvent\"][\"vdw\"][idx]       += simulation_gw.context.getState(getEnergy=True, groups={2}).getPotentialEnergy() / unit.kilocalorie_per_mole\n",
    "                pair_interaction[\"host_guest_solvent\"][\"elec\"][idx] += simulation_hgw.context.getState(getEnergy=True, groups={1}).getPotentialEnergy() / unit.kilocalorie_per_mole\n",
    "                pair_interaction[\"host_guest_solvent\"][\"vdw\"][idx]  += simulation_hgw.context.getState(getEnergy=True, groups={2}).getPotentialEnergy() / unit.kilocalorie_per_mole\n",
    "\n",
    "# Average potential energies\n",
    "n_counts[n_counts == 0] = 1 \n",
    "pair_interaction[\"host_guest\"][\"elec\"] /= n_counts\n",
    "pair_interaction[\"host_guest\"][\"vdw\"] /= n_counts\n",
    "\n",
    "pair_interaction[\"host_solvent\"][\"elec\"] /= n_counts\n",
    "pair_interaction[\"host_solvent\"][\"vdw\"] /= n_counts\n",
    "\n",
    "pair_interaction[\"guest_solvent\"][\"elec\"] /= n_counts\n",
    "pair_interaction[\"guest_solvent\"][\"vdw\"] /= n_counts\n",
    "\n",
    "pair_interaction[\"host_guest_solvent\"][\"elec\"] /= n_counts\n",
    "pair_interaction[\"host_guest_solvent\"][\"vdw\"] /= n_counts\n",
    "\n",
    "# Shift energy to zero\n",
    "for pair in pair_interaction.keys():\n",
    "    pair_interaction[pair][\"elec\"] -= pair_interaction[pair][\"elec\"][-1]\n",
    "    pair_interaction[pair][\"vdw\"] -= pair_interaction[pair][\"vdw\"][-1]\n",
    "    pair_interaction[pair][\"total\"] = pair_interaction[pair][\"elec\"] + pair_interaction[pair][\"vdw\"]\n",
    "\n",
    "# Save results to JSON\n",
    "with open(\"pair_interaction.json\", \"w\") as f:\n",
    "    dumped = json.dumps(pair_interaction, cls=io.NumpyEncoder)\n",
    "    f.write(dumped)"
   ]
  },
  {
   "cell_type": "markdown",
   "metadata": {},
   "source": [
    "## Plot pair-potential profile"
   ]
  },
  {
   "cell_type": "code",
   "execution_count": null,
   "metadata": {},
   "outputs": [],
   "source": [
    "plt.figure(figsize=(12,10))\n",
    "plt.subplot(2,2,1)\n",
    "plt.plot(r_distance, pair_interaction[\"host_guest\"][\"elec\"], 'o-', label=\"elec\")\n",
    "plt.plot(r_distance, pair_interaction[\"host_guest\"][\"vdw\"], 'o-', label=\"vdw\")\n",
    "plt.ylabel(r\"$\\Delta$G (kcal/mol)\", fontsize=14)\n",
    "plt.title(\"Host-Guest\", fontsize=14)\n",
    "\n",
    "plt.subplot(2,2,3)\n",
    "plt.plot(r_distance, pair_interaction[\"host_guest_solvent\"][\"elec\"], 'o-', label=\"elec\")\n",
    "plt.plot(r_distance, pair_interaction[\"host_guest_solvent\"][\"vdw\"], 'o-', label=\"vdw\")\n",
    "plt.xlabel(r\"r ($\\AA$)\", fontsize=14)\n",
    "plt.ylabel(r\"$\\Delta$G (kcal/mol)\", fontsize=14)\n",
    "plt.title(\"Host-Guest complex with solvent\", fontsize=14)\n",
    "\n",
    "plt.subplot(2,2,2)\n",
    "plt.plot(r_distance, pair_interaction[\"guest_solvent\"][\"elec\"], 'o-', label=\"elec\")\n",
    "plt.plot(r_distance, pair_interaction[\"guest_solvent\"][\"vdw\"], 'o-', label=\"vdw\")\n",
    "plt.title(\"Guest-solvent\", fontsize=14)\n",
    "\n",
    "plt.subplot(2,2,4)\n",
    "plt.plot(r_distance, pair_interaction[\"host_solvent\"][\"elec\"], 'o-', label=\"elec\")\n",
    "plt.plot(r_distance, pair_interaction[\"host_solvent\"][\"vdw\"], 'o-', label=\"vdw\")\n",
    "plt.xlabel(r\"r ($\\AA$)\", fontsize=14)\n",
    "plt.title(\"Host-solvent\", fontsize=14)\n",
    "\n",
    "plt.legend(fontsize=12)"
   ]
  },
  {
   "cell_type": "code",
   "execution_count": null,
   "metadata": {},
   "outputs": [],
   "source": []
  }
 ],
 "metadata": {
  "kernelspec": {
   "display_name": "Python 3",
   "language": "python",
   "name": "python3"
  },
  "language_info": {
   "codemirror_mode": {
    "name": "ipython",
    "version": 3
   },
   "file_extension": ".py",
   "mimetype": "text/x-python",
   "name": "python",
   "nbconvert_exporter": "python",
   "pygments_lexer": "ipython3",
   "version": "3.7.8"
  }
 },
 "nbformat": 4,
 "nbformat_minor": 4
}
