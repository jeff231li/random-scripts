{
 "cells": [
  {
   "cell_type": "code",
   "execution_count": 1,
   "metadata": {},
   "outputs": [],
   "source": [
    "import os\n",
    "import json\n",
    "\n",
    "import numpy as np\n",
    "import matplotlib.pyplot as plt\n",
    "import paprika.io as io\n",
    "from paprika.analysis.utils import get_block_sem, get_nearest_max\n",
    "\n",
    "from glob import glob\n",
    "import pytraj as pt"
   ]
  },
  {
   "cell_type": "code",
   "execution_count": 2,
   "metadata": {},
   "outputs": [],
   "source": [
    "R = 8.314 / 4184\n",
    "T = 298.15\n",
    "RT = R*T\n",
    "gauss_factor = (2*np.pi*np.exp(1))**(3/2)"
   ]
  },
  {
   "cell_type": "code",
   "execution_count": 3,
   "metadata": {},
   "outputs": [],
   "source": [
    "# Anchor atoms\n",
    "G1 = \":GST@C10\"\n",
    "G2 = \":GST@C9\"\n",
    "G3 = \":GST@C6\"\n",
    "H1 = \":CB8@C26\"\n",
    "H2 = \":CB8@C2\"\n",
    "H3 = \":CB8@C8\"\n",
    "D1 = \":DM1\"\n",
    "D2 = \":DM2\"\n",
    "D3 = \":DM3\""
   ]
  },
  {
   "cell_type": "code",
   "execution_count": 4,
   "metadata": {},
   "outputs": [],
   "source": [
    "# Load trajectories\n",
    "traj = pt.iterload(glob(f\"windows/a000/production-v*.dcd\"), top=\"restrained.pdb\")"
   ]
  },
  {
   "cell_type": "markdown",
   "metadata": {},
   "source": [
    "## Translational Entropy"
   ]
  },
  {
   "cell_type": "code",
   "execution_count": 5,
   "metadata": {},
   "outputs": [],
   "source": [
    "r_guest = pt.center_of_mass(traj, mask=':GST')\n",
    "r_host = pt.center_of_mass(traj, mask=':CB8')\n",
    "r_com = r_guest-r_host"
   ]
  },
  {
   "cell_type": "code",
   "execution_count": 6,
   "metadata": {},
   "outputs": [],
   "source": [
    "covariance = np.cov(r_com.T)\n",
    "e_val, e_vec = np.linalg.eig(covariance)\n",
    "translational_volume = gauss_factor*np.prod(np.sqrt(e_val))"
   ]
  },
  {
   "cell_type": "code",
   "execution_count": 7,
   "metadata": {},
   "outputs": [],
   "source": [
    "dGtrans = -RT*np.log(translational_volume / 1660.5392)"
   ]
  },
  {
   "cell_type": "markdown",
   "metadata": {},
   "source": [
    "## Rotational Entropy"
   ]
  },
  {
   "cell_type": "code",
   "execution_count": 8,
   "metadata": {},
   "outputs": [],
   "source": [
    "# Polar angle\n",
    "theta = pt.angle(traj, mask=f\"{D2} {D1} {G1}\")*np.pi/180\n",
    "ave_theta = np.mean(theta)\n",
    "\n",
    "# Azimuthal angle\n",
    "phi = pt.dihedral(traj, mask=f\"{D1} {G1} {G2} {G3}\")*np.pi/180\n",
    "phi[phi < 0] += 2*np.pi\n",
    "\n",
    "# Twist angle\n",
    "psi = pt.dihedral(traj, mask=f\"{D2} {D1} {G1} {G2}\")*np.pi/180\n",
    "psi[psi < 0] += 2*np.pi"
   ]
  },
  {
   "cell_type": "code",
   "execution_count": 9,
   "metadata": {},
   "outputs": [],
   "source": [
    "covariance = np.cov(np.c_[theta, phi, psi].T)\n",
    "e_val, e_vec = np.linalg.eig(covariance)\n",
    "rotational_volume = gauss_factor*np.prod(np.sqrt(e_val))*np.sin(ave_theta)"
   ]
  },
  {
   "cell_type": "code",
   "execution_count": 10,
   "metadata": {},
   "outputs": [],
   "source": [
    "dGrot = -RT*np.log(rotational_volume / (8*np.pi**2))"
   ]
  },
  {
   "cell_type": "markdown",
   "metadata": {},
   "source": [
    "### Total Entropy"
   ]
  },
  {
   "cell_type": "code",
   "execution_count": 11,
   "metadata": {},
   "outputs": [
    {
     "name": "stdout",
     "output_type": "stream",
     "text": [
      "-TdS(trans) = 3.93 kcal/mol\n",
      "-TdS(rot)   = 2.48 kcal/mol\n",
      "-TdS(total) = 6.41 kcal/mol\n"
     ]
    }
   ],
   "source": [
    "print(f\"-TdS(trans) = {dGtrans:.2f} kcal/mol\")\n",
    "print(f\"-TdS(rot)   = {dGrot:.2f} kcal/mol\")\n",
    "print(f\"-TdS(total) = {dGtrans+dGrot:.2f} kcal/mol\")"
   ]
  }
 ],
 "metadata": {
  "kernelspec": {
   "display_name": "Python 3",
   "language": "python",
   "name": "python3"
  },
  "language_info": {
   "codemirror_mode": {
    "name": "ipython",
    "version": 3
   },
   "file_extension": ".py",
   "mimetype": "text/x-python",
   "name": "python",
   "nbconvert_exporter": "python",
   "pygments_lexer": "ipython3",
   "version": "3.7.8"
  }
 },
 "nbformat": 4,
 "nbformat_minor": 4
}
