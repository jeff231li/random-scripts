{
 "cells": [
  {
   "cell_type": "code",
   "execution_count": 1,
   "id": "4cb1ee9d-af4f-41cc-825f-c6b6f5fe5822",
   "metadata": {
    "tags": []
   },
   "outputs": [
    {
     "name": "stderr",
     "output_type": "stream",
     "text": [
      "Warning: Unable to load toolkit 'OpenEye Toolkit'. The Open Force Field Toolkit does not require the OpenEye Toolkits, and can use RDKit/AmberTools instead. However, if you have a valid license for the OpenEye Toolkits, consider installing them for faster performance and additional file format support: https://docs.eyesopen.com/toolkits/python/quickstart-python/linuxosx.html OpenEye offers free Toolkit licenses for academics: https://www.eyesopen.com/academic-licensing\n",
      "Warning: importing 'simtk.openmm' is deprecated.  Import 'openmm' instead.\n"
     ]
    }
   ],
   "source": [
    "import yaml\n",
    "from openff.toolkit.topology import Molecule\n",
    "from openff.toolkit.typing.engines.smirnoff import ForceField\n",
    "from openff.toolkit.typing.engines.smirnoff.parameters import LibraryChargeHandler\n",
    "from paprika.evaluator.utils import get_benchmarks"
   ]
  },
  {
   "cell_type": "markdown",
   "id": "a5826ca6-a1fb-4945-8a38-ea48de91198c",
   "metadata": {
    "tags": []
   },
   "source": [
    "## Select host-guest pairs"
   ]
  },
  {
   "cell_type": "code",
   "execution_count": 2,
   "id": "f3212b23-71a6-4f8c-9895-eaab0b2b99d9",
   "metadata": {
    "tags": []
   },
   "outputs": [],
   "source": [
    "host_guest = {\n",
    "    \"bcd\": [\"hex\"],\n",
    "    \"cb7\": [\"mvn\"],\n",
    "    \"oam\": [\"cbn\"],\n",
    "}"
   ]
  },
  {
   "cell_type": "markdown",
   "id": "69e87a19-c0cc-423a-aea3-9ce3b826c0a0",
   "metadata": {},
   "source": [
    "## Store charges from SDF files to `LibraryChargeHandler`"
   ]
  },
  {
   "cell_type": "code",
   "execution_count": 3,
   "id": "1be3d1a7-4858-47db-ad52-45275e3fd479",
   "metadata": {
    "tags": []
   },
   "outputs": [],
   "source": [
    "guest_list = []\n",
    "library_charge_handler = LibraryChargeHandler(version=0.3)\n",
    "taproom = get_benchmarks()\n",
    "\n",
    "for host in host_guest:\n",
    "    # Get Charges for Host molecules\n",
    "    metadata = taproom[\"host_guest_systems\"][host]\n",
    "\n",
    "    with open(metadata[\"yaml\"][\"p\"], \"r\") as f:\n",
    "        host_metadata = yaml.load(f, Loader=yaml.FullLoader)\n",
    "\n",
    "    host_mol = Molecule.from_file(\n",
    "        f\"{metadata['path']}/{host_metadata['structure']['sdf']}\",\n",
    "        allow_undefined_stereo=True,\n",
    "    )\n",
    "    host_charges = host_mol.partial_charges\n",
    "    host_smirks = host_mol.to_smiles(\n",
    "        isomeric=True, explicit_hydrogens=True, mapped=True\n",
    "    )\n",
    "\n",
    "    library_charge_handler.add_parameter(\n",
    "        parameter_kwargs={\n",
    "            \"smirks\": host_smirks,\n",
    "            **{f\"charge{i + 1}\": charge for i, charge in enumerate(host_charges)},\n",
    "        }\n",
    "    )\n",
    "\n",
    "    # Get Charges for Guest molecules\n",
    "    for guest in host_guest[host]:\n",
    "        with open(metadata[guest][\"yaml\"], \"r\") as f:\n",
    "            guest_metadata = yaml.load(f, Loader=yaml.FullLoader)\n",
    "\n",
    "        guest_mol = Molecule.from_file(\n",
    "            f\"{metadata[guest]['path']}/{guest_metadata['structure']['sdf']}\",\n",
    "            allow_undefined_stereo=True,\n",
    "        )\n",
    "        guest_charges = guest_mol.partial_charges\n",
    "        guest_smirks = guest_mol.to_smiles(\n",
    "            isomeric=True, explicit_hydrogens=True, mapped=True\n",
    "        )\n",
    "\n",
    "        if guest_smirks in guest_list:\n",
    "            continue\n",
    "\n",
    "        guest_list.append(guest_smirks)\n",
    "\n",
    "        library_charge_handler.add_parameter(\n",
    "            parameter_kwargs={\n",
    "                \"smirks\": guest_smirks,\n",
    "                **{f\"charge{i + 1}\": charge for i, charge in enumerate(guest_charges)},\n",
    "            }\n",
    "        )"
   ]
  },
  {
   "cell_type": "markdown",
   "id": "e972138f-3b94-4fd3-afbd-4368c94fd7e7",
   "metadata": {},
   "source": [
    "## Write Charges to File"
   ]
  },
  {
   "cell_type": "code",
   "execution_count": 4,
   "id": "d533346c-ef09-49de-a8dd-af5a88562636",
   "metadata": {},
   "outputs": [],
   "source": [
    "ff = ForceField()\n",
    "\n",
    "ff.register_parameter_handler(library_charge_handler)\n",
    "\n",
    "ff.to_file(\"taproom_AM1BCC.offxml\")"
   ]
  },
  {
   "cell_type": "code",
   "execution_count": null,
   "id": "bf5e2ede-0e24-4f8d-b65e-17cf7efb86c8",
   "metadata": {},
   "outputs": [],
   "source": []
  }
 ],
 "metadata": {
  "kernelspec": {
   "display_name": "ForceBalance",
   "language": "python",
   "name": "forcebalance"
  },
  "language_info": {
   "codemirror_mode": {
    "name": "ipython",
    "version": 3
   },
   "file_extension": ".py",
   "mimetype": "text/x-python",
   "name": "python",
   "nbconvert_exporter": "python",
   "pygments_lexer": "ipython3",
   "version": "3.8.15"
  }
 },
 "nbformat": 4,
 "nbformat_minor": 5
}
