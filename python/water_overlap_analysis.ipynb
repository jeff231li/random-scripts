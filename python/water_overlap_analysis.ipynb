{
 "cells": [
  {
   "cell_type": "code",
   "execution_count": 1,
   "id": "tracked-verification",
   "metadata": {},
   "outputs": [],
   "source": [
    "import os\n",
    "import json\n",
    "import numpy as np\n",
    "import MDAnalysis as mda\n",
    "from paprika.io import json_numpy_obj_hook, NumpyEncoder\n",
    "\n",
    "import matplotlib.pyplot as plt\n",
    "from mpl_toolkits.mplot3d import Axes3D\n",
    "from matplotlib.collections import PolyCollection"
   ]
  },
  {
   "cell_type": "code",
   "execution_count": 2,
   "id": "floral-strip",
   "metadata": {},
   "outputs": [],
   "source": [
    "import logging\n",
    "from importlib import reload\n",
    "\n",
    "reload(logging)\n",
    "\n",
    "logger = logging.getLogger()\n",
    "logging.basicConfig(\n",
    "    format='%(asctime)s %(message)s',\n",
    "    datefmt='%Y-%m-%d %I:%M:%S %p',\n",
    "    level=logging.INFO\n",
    ")"
   ]
  },
  {
   "cell_type": "markdown",
   "id": "sacred-million",
   "metadata": {},
   "source": [
    "### Initialize"
   ]
  },
  {
   "cell_type": "code",
   "execution_count": 3,
   "id": "embedded-collector",
   "metadata": {},
   "outputs": [],
   "source": [
    "topology = \"cb7-amt-sol.prmtop\"\n",
    "trajectory = \"production-v1.nc\"\n",
    "selection = \"resname WAT and (cyzone 4 30 20 resname CB7)\"\n",
    "folder = \"windows\"\n",
    "\n",
    "with open(\"windows.json\", \"r\") as f:\n",
    "    window_list = json.loads(f.read(), object_hook=json_numpy_obj_hook)\n",
    "pull_windows = window_list[\"pull\"][\"windows\"]\n",
    "\n",
    "n_water = {\n",
    "    window: {\"n_water\": [], \"hist\": None} for window in pull_windows\n",
    "}"
   ]
  },
  {
   "cell_type": "markdown",
   "id": "handled-worse",
   "metadata": {},
   "source": [
    "### Count the number of water molecules"
   ]
  },
  {
   "cell_type": "code",
   "execution_count": 4,
   "id": "medieval-drama",
   "metadata": {
    "scrolled": true
   },
   "outputs": [
    {
     "name": "stderr",
     "output_type": "stream",
     "text": [
      "2021-01-20 11:44:20 AM Counting number of water molecules in CB7 cavity in window p000...\n",
      "2021-01-20 11:44:33 AM Counting number of water molecules in CB7 cavity in window p001...\n",
      "2021-01-20 11:44:46 AM Counting number of water molecules in CB7 cavity in window p002...\n",
      "2021-01-20 11:44:58 AM Counting number of water molecules in CB7 cavity in window p003...\n",
      "2021-01-20 11:45:11 AM Counting number of water molecules in CB7 cavity in window p004...\n",
      "2021-01-20 11:45:23 AM Counting number of water molecules in CB7 cavity in window p005...\n",
      "2021-01-20 11:45:36 AM Counting number of water molecules in CB7 cavity in window p006...\n",
      "2021-01-20 11:45:49 AM Counting number of water molecules in CB7 cavity in window p007...\n",
      "2021-01-20 11:46:02 AM Counting number of water molecules in CB7 cavity in window p008...\n",
      "2021-01-20 11:46:16 AM Counting number of water molecules in CB7 cavity in window p009...\n",
      "2021-01-20 11:46:29 AM Counting number of water molecules in CB7 cavity in window p010...\n",
      "2021-01-20 11:46:42 AM Counting number of water molecules in CB7 cavity in window p011...\n",
      "2021-01-20 11:46:54 AM Counting number of water molecules in CB7 cavity in window p012...\n",
      "2021-01-20 11:47:07 AM Counting number of water molecules in CB7 cavity in window p013...\n",
      "2021-01-20 11:47:19 AM Counting number of water molecules in CB7 cavity in window p014...\n",
      "2021-01-20 11:47:32 AM Counting number of water molecules in CB7 cavity in window p015...\n",
      "2021-01-20 11:47:45 AM Counting number of water molecules in CB7 cavity in window p016...\n",
      "2021-01-20 11:47:58 AM Counting number of water molecules in CB7 cavity in window p017...\n",
      "2021-01-20 11:48:10 AM Counting number of water molecules in CB7 cavity in window p018...\n",
      "2021-01-20 11:48:23 AM Counting number of water molecules in CB7 cavity in window p019...\n",
      "2021-01-20 11:48:36 AM Counting number of water molecules in CB7 cavity in window p020...\n",
      "2021-01-20 11:48:48 AM Counting number of water molecules in CB7 cavity in window p021...\n",
      "2021-01-20 11:49:01 AM Counting number of water molecules in CB7 cavity in window p022...\n",
      "2021-01-20 11:49:14 AM Counting number of water molecules in CB7 cavity in window p023...\n",
      "2021-01-20 11:49:26 AM Counting number of water molecules in CB7 cavity in window p024...\n",
      "2021-01-20 11:49:39 AM Counting number of water molecules in CB7 cavity in window p025...\n",
      "2021-01-20 11:49:52 AM Counting number of water molecules in CB7 cavity in window p026...\n",
      "2021-01-20 11:50:05 AM Counting number of water molecules in CB7 cavity in window p027...\n",
      "2021-01-20 11:50:18 AM Counting number of water molecules in CB7 cavity in window p028...\n",
      "2021-01-20 11:50:30 AM Counting number of water molecules in CB7 cavity in window p029...\n",
      "2021-01-20 11:50:43 AM Counting number of water molecules in CB7 cavity in window p030...\n",
      "2021-01-20 11:50:57 AM Counting number of water molecules in CB7 cavity in window p031...\n",
      "2021-01-20 11:51:10 AM Counting number of water molecules in CB7 cavity in window p032...\n",
      "2021-01-20 11:51:24 AM Counting number of water molecules in CB7 cavity in window p033...\n",
      "2021-01-20 11:51:37 AM Counting number of water molecules in CB7 cavity in window p034...\n",
      "2021-01-20 11:51:50 AM Counting number of water molecules in CB7 cavity in window p035...\n",
      "2021-01-20 11:52:03 AM Counting number of water molecules in CB7 cavity in window p036...\n",
      "2021-01-20 11:52:16 AM Counting number of water molecules in CB7 cavity in window p037...\n",
      "2021-01-20 11:52:28 AM Counting number of water molecules in CB7 cavity in window p038...\n",
      "2021-01-20 11:52:41 AM Counting number of water molecules in CB7 cavity in window p039...\n",
      "2021-01-20 11:52:54 AM Counting number of water molecules in CB7 cavity in window p040...\n",
      "2021-01-20 11:53:07 AM Counting number of water molecules in CB7 cavity in window p041...\n",
      "2021-01-20 11:53:19 AM Counting number of water molecules in CB7 cavity in window p042...\n",
      "2021-01-20 11:53:32 AM Counting number of water molecules in CB7 cavity in window p043...\n",
      "2021-01-20 11:53:44 AM Counting number of water molecules in CB7 cavity in window p044...\n",
      "2021-01-20 11:53:57 AM Counting number of water molecules in CB7 cavity in window p045...\n"
     ]
    }
   ],
   "source": [
    "for window in pull_windows:\n",
    "    \n",
    "    logging.info(\n",
    "        f\"Counting number of water molecules in window {window}...\"\n",
    "    )\n",
    "    \n",
    "    # Define Universe\n",
    "    universe = mda.Universe(\n",
    "        os.path.join(folder, window, topology),\n",
    "        os.path.join(folder, window, trajectory),\n",
    "    )\n",
    "    water = universe.select_atoms(\n",
    "        selection,\n",
    "        periodic=False,\n",
    "        updating=True,\n",
    "    )\n",
    "    \n",
    "    # Count the number of atoms\n",
    "    n_atoms = []\n",
    "    for ts in universe.trajectory:\n",
    "        n_atoms.append(np.unique(water.resids).size)\n",
    "        \n",
    "    n_water[window][\"n_water\"] = np.array(n_atoms)\n",
    "    \n",
    "    del universe\n",
    "    del water"
   ]
  },
  {
   "cell_type": "markdown",
   "id": "stuck-earthquake",
   "metadata": {},
   "source": [
    "### Histogram"
   ]
  },
  {
   "cell_type": "code",
   "execution_count": 5,
   "id": "norwegian-puppy",
   "metadata": {
    "scrolled": true
   },
   "outputs": [
    {
     "name": "stderr",
     "output_type": "stream",
     "text": [
      "2021-01-20 11:54:10 AM Creating histogram in window p000...\n",
      "2021-01-20 11:54:10 AM Creating histogram in window p001...\n",
      "2021-01-20 11:54:10 AM Creating histogram in window p002...\n",
      "2021-01-20 11:54:10 AM Creating histogram in window p003...\n",
      "2021-01-20 11:54:10 AM Creating histogram in window p004...\n",
      "2021-01-20 11:54:10 AM Creating histogram in window p005...\n",
      "2021-01-20 11:54:10 AM Creating histogram in window p006...\n",
      "2021-01-20 11:54:10 AM Creating histogram in window p007...\n",
      "2021-01-20 11:54:10 AM Creating histogram in window p008...\n",
      "2021-01-20 11:54:10 AM Creating histogram in window p009...\n",
      "2021-01-20 11:54:10 AM Creating histogram in window p010...\n",
      "2021-01-20 11:54:10 AM Creating histogram in window p011...\n",
      "2021-01-20 11:54:10 AM Creating histogram in window p012...\n",
      "2021-01-20 11:54:10 AM Creating histogram in window p013...\n",
      "2021-01-20 11:54:10 AM Creating histogram in window p014...\n",
      "2021-01-20 11:54:10 AM Creating histogram in window p015...\n",
      "2021-01-20 11:54:10 AM Creating histogram in window p016...\n",
      "2021-01-20 11:54:10 AM Creating histogram in window p017...\n",
      "2021-01-20 11:54:10 AM Creating histogram in window p018...\n",
      "2021-01-20 11:54:10 AM Creating histogram in window p019...\n",
      "2021-01-20 11:54:10 AM Creating histogram in window p020...\n",
      "2021-01-20 11:54:10 AM Creating histogram in window p021...\n",
      "2021-01-20 11:54:10 AM Creating histogram in window p022...\n",
      "2021-01-20 11:54:10 AM Creating histogram in window p023...\n",
      "2021-01-20 11:54:10 AM Creating histogram in window p024...\n",
      "2021-01-20 11:54:10 AM Creating histogram in window p025...\n",
      "2021-01-20 11:54:10 AM Creating histogram in window p026...\n",
      "2021-01-20 11:54:10 AM Creating histogram in window p027...\n",
      "2021-01-20 11:54:10 AM Creating histogram in window p028...\n",
      "2021-01-20 11:54:10 AM Creating histogram in window p029...\n",
      "2021-01-20 11:54:10 AM Creating histogram in window p030...\n",
      "2021-01-20 11:54:10 AM Creating histogram in window p031...\n",
      "2021-01-20 11:54:10 AM Creating histogram in window p032...\n",
      "2021-01-20 11:54:10 AM Creating histogram in window p033...\n",
      "2021-01-20 11:54:10 AM Creating histogram in window p034...\n",
      "2021-01-20 11:54:10 AM Creating histogram in window p035...\n",
      "2021-01-20 11:54:10 AM Creating histogram in window p036...\n",
      "2021-01-20 11:54:10 AM Creating histogram in window p037...\n",
      "2021-01-20 11:54:10 AM Creating histogram in window p038...\n",
      "2021-01-20 11:54:10 AM Creating histogram in window p039...\n",
      "2021-01-20 11:54:10 AM Creating histogram in window p040...\n",
      "2021-01-20 11:54:10 AM Creating histogram in window p041...\n",
      "2021-01-20 11:54:10 AM Creating histogram in window p042...\n",
      "2021-01-20 11:54:10 AM Creating histogram in window p043...\n",
      "2021-01-20 11:54:10 AM Creating histogram in window p044...\n",
      "2021-01-20 11:54:10 AM Creating histogram in window p045...\n"
     ]
    }
   ],
   "source": [
    "bin_edges = np.arange(0, 24, 1)\n",
    "for window in pull_windows:\n",
    "    # Generate Histogram\n",
    "    logging.info(f\"Creating histogram in window {window}...\")\n",
    "    hist, _ = np.histogram(n_water[window][\"n_water\"], bins=bin_edges, density=False)\n",
    "    n_water[window][\"hist\"] = hist"
   ]
  },
  {
   "cell_type": "code",
   "execution_count": 18,
   "id": "accessory-pasta",
   "metadata": {},
   "outputs": [
    {
     "data": {
      "text/plain": [
       "(0.0, 500.0)"
      ]
     },
     "execution_count": 18,
     "metadata": {},
     "output_type": "execute_result"
    },
    {
     "data": {
      "image/png": "[encoded data removed]",
      "text/plain": [
       "<Figure size 432x288 with 1 Axes>"
      ]
     },
     "metadata": {
      "needs_background": "light"
     },
     "output_type": "display_data"
    }
   ],
   "source": [
    "x = np.linspace(0, bin_edges[-1], len(n_water[\"p000\"][\"hist\"]))\n",
    "for index, window in enumerate(pull_windows):\n",
    "    if index == 15:\n",
    "        break\n",
    "    plt.plot(x, n_water[window][\"hist\"])\n",
    "plt.xlabel(\"n water molecules\")\n",
    "plt.ylabel(\"Frequency\")\n",
    "plt.xlim(0, bin_edges[-1])\n",
    "plt.ylim(0, 500)"
   ]
  },
  {
   "cell_type": "markdown",
   "id": "original-capital",
   "metadata": {},
   "source": [
    "### Overlap Analysis "
   ]
  },
  {
   "cell_type": "code",
   "execution_count": 7,
   "id": "spectacular-federation",
   "metadata": {},
   "outputs": [],
   "source": [
    "def return_intersection(hist1, hist2):\n",
    "    minima = np.minimum(hist1, hist2)\n",
    "    intersect_1 = np.true_divide(np.sum(minima), np.sum(hist1))\n",
    "    intersect_2 = np.true_divide(np.sum(minima), np.sum(hist2))\n",
    "    return np.array([intersect_1, intersect_2])"
   ]
  },
  {
   "cell_type": "code",
   "execution_count": 8,
   "id": "breeding-little",
   "metadata": {},
   "outputs": [],
   "source": [
    "n_windows = len(pull_windows)\n",
    "n_water[\"overlap\"] = np.zeros(n_windows)\n",
    "\n",
    "for index in range(n_windows-1):\n",
    "    iwindow = pull_windows[index]\n",
    "    jwindow = pull_windows[index+1]\n",
    "    \n",
    "    hist1 = n_water[iwindow][\"hist\"]\n",
    "    hist2 = n_water[jwindow][\"hist\"]\n",
    "    intersection = return_intersection(hist1, hist2)\n",
    "    n_water[\"overlap\"][index] = intersection[0]\n",
    "\n",
    "n_water[\"overlap\"][index+1] = intersection[1]"
   ]
  },
  {
   "cell_type": "code",
   "execution_count": 9,
   "id": "received-shakespeare",
   "metadata": {},
   "outputs": [],
   "source": [
    "with open(\"water_analysis.json\", \"w\") as f:\n",
    "    dumped = json.dumps(n_water, cls=NumpyEncoder)\n",
    "    f.write(dumped)"
   ]
  },
  {
   "cell_type": "markdown",
   "id": "fluid-candy",
   "metadata": {},
   "source": [
    "### Plot Overlap and PMF"
   ]
  },
  {
   "cell_type": "code",
   "execution_count": 10,
   "id": "finished-commodity",
   "metadata": {},
   "outputs": [],
   "source": [
    "with open(\"APR_results.json\", \"r\") as f:\n",
    "    results = json.loads(f.read(), object_hook=json_numpy_obj_hook)"
   ]
  },
  {
   "cell_type": "code",
   "execution_count": 12,
   "id": "likely-player",
   "metadata": {},
   "outputs": [
    {
     "data": {
      "text/plain": [
       "Text(0.5, 1.0, 'Overlap between neighbouring windows')"
      ]
     },
     "execution_count": 12,
     "metadata": {},
     "output_type": "execute_result"
    },
    {
     "data": {
      "image/png": "[encoded data removed]",
      "text/plain": [
       "<Figure size 432x720 with 2 Axes>"
      ]
     },
     "metadata": {
      "needs_background": "light"
     },
     "output_type": "display_data"
    }
   ],
   "source": [
    "plt.figure(figsize=(6,10))\n",
    "\n",
    "plt.subplot(2,1,1)\n",
    "plt.errorbar(\n",
    "    range(len(results[\"pull\"][\"ti-block\"][\"fe_matrix\"][0,:])),\n",
    "    results[\"pull\"][\"ti-block\"][\"fe_matrix\"][0,:],\n",
    "    yerr=results[\"pull\"][\"ti-block\"][\"sem_matrix\"][0,:],\n",
    "    fmt=\".-\",\n",
    ")\n",
    "plt.xlim(0, n_windows-1)\n",
    "plt.title(\"Pull phase PMF\", fontsize=14)\n",
    "plt.ylabel(\"W (kcal/mol)\", fontsize=14)\n",
    "\n",
    "plt.subplot(2,1,2)\n",
    "plt.plot(n_water[\"overlap\"], '.-')\n",
    "plt.xlim(0, n_windows-1)\n",
    "plt.xlabel(\"windows index\", fontsize=14)\n",
    "plt.ylabel(\"Overlap (%)\", fontsize=14)\n",
    "plt.title(\"Overlap between neighbouring windows\", fontsize=14)"
   ]
  },
  {
   "cell_type": "code",
   "execution_count": null,
   "id": "flying-resource",
   "metadata": {},
   "outputs": [],
   "source": []
  }
 ],
 "metadata": {
  "kernelspec": {
   "display_name": "Python 3",
   "language": "python",
   "name": "python3"
  },
  "language_info": {
   "codemirror_mode": {
    "name": "ipython",
    "version": 3
   },
   "file_extension": ".py",
   "mimetype": "text/x-python",
   "name": "python",
   "nbconvert_exporter": "python",
   "pygments_lexer": "ipython3",
   "version": "3.7.9"
  }
 },
 "nbformat": 4,
 "nbformat_minor": 5
}
