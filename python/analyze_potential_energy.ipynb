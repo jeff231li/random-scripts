{
 "cells": [
  {
   "cell_type": "code",
   "execution_count": 1,
   "metadata": {},
   "outputs": [],
   "source": [
    "import os \n",
    "\n",
    "import pandas as pd\n",
    "import matplotlib.pyplot as plt\n",
    "\n",
    "import simtk.unit as unit\n",
    "from simtk.openmm.app import *\n",
    "from simtk.openmm import *\n",
    "\n",
    "from MDAnalysis.coordinates.DCD import DCDFile"
   ]
  },
  {
   "cell_type": "code",
   "execution_count": 2,
   "metadata": {},
   "outputs": [],
   "source": [
    "with open(\"system.xml\", \"r\") as f:\n",
    "    system = XmlSerializer.deserialize(f.read())\n",
    "coords = PDBFile(\"equilibrated.pdb\")\n",
    "\n",
    "for force in system.getForces():\n",
    "    if isinstance(force, HarmonicBondForce):\n",
    "        force.setForceGroup(1)\n",
    "    elif isinstance(force, HarmonicAngleForce):\n",
    "        force.setForceGroup(2)\n",
    "    elif isinstance(force, PeriodicTorsionForce):\n",
    "        force.setForceGroup(3)\n",
    "    elif isinstance(force, NonbondedForce):\n",
    "        force.setForceGroup(4)"
   ]
  },
  {
   "cell_type": "code",
   "execution_count": 3,
   "metadata": {},
   "outputs": [],
   "source": [
    "dt   = 2.0 * unit.femtoseconds\n",
    "Temp = 298.15 * unit.kelvin\n",
    "Pres = 1.01325 * unit.bar\n",
    "integrator = LangevinIntegrator(Temp, 1.0 / unit.picoseconds, dt)\n",
    "barostat   = MonteCarloBarostat(Pres, Temp, 100)\n",
    "system.addForce(barostat)\n",
    "\n",
    "simulation = Simulation(\n",
    "    coords.topology, \n",
    "    system, \n",
    "    integrator,\n",
    "    Platform.getPlatformByName('CPU')\n",
    ")"
   ]
  },
  {
   "cell_type": "code",
   "execution_count": 4,
   "metadata": {},
   "outputs": [],
   "source": [
    "potential_energy = []\n",
    "\n",
    "with DCDFile(\"equilibration.dcd\") as dcd:\n",
    "    header = dcd.header\n",
    "\n",
    "    for xyz, box in zip(dcd.readframes()[0], dcd.readframes()[1]):\n",
    "        box_vectors = unit.Quantity(\n",
    "            value=[Vec3(box[0],0,0), Vec3(0,box[2],0), Vec3(0,0,box[5])], \n",
    "            unit=unit.angstrom,\n",
    "        )\n",
    "        \n",
    "        simulation.context.setPositions(xyz * unit.angstrom)\n",
    "        simulation.context.setPeriodicBoxVectors(*box_vectors)\n",
    "        \n",
    "        bond_energy = simulation.context.getState(getEnergy=True, groups={1})\n",
    "        bond_energy = bond_energy.getPotentialEnergy() / unit.kilocalorie_per_mole\n",
    "\n",
    "        angle_energy = simulation.context.getState(getEnergy=True, groups={2})\n",
    "        angle_energy = angle_energy.getPotentialEnergy() / unit.kilocalorie_per_mole\n",
    "\n",
    "        torsion_energy = simulation.context.getState(getEnergy=True, groups={3})\n",
    "        torsion_energy = torsion_energy.getPotentialEnergy() / unit.kilocalorie_per_mole\n",
    "\n",
    "        nonbonded_energy = simulation.context.getState(getEnergy=True, groups={4})\n",
    "        nonbonded_energy = nonbonded_energy.getPotentialEnergy() / unit.kilocalorie_per_mole\n",
    "\n",
    "        total_energy = (bond_energy + angle_energy + torsion_energy + nonbonded_energy)\n",
    "        \n",
    "        potential_energy.append([\n",
    "            bond_energy,\n",
    "            angle_energy,\n",
    "            torsion_energy,\n",
    "            nonbonded_energy,\n",
    "            total_energy\n",
    "        ])"
   ]
  },
  {
   "cell_type": "code",
   "execution_count": 6,
   "metadata": {},
   "outputs": [],
   "source": [
    "f = open(\"potential_energy.csv\", \"w\")\n",
    "f.writelines(f'\"frame\",\"Bond\",\"Angle\",\"Torsion\",\"Nonbonded\",\"Total\"\\n')\n",
    "i = 0\n",
    "for energy in potential_energy:\n",
    "    f.writelines(f\"{i},{energy[0]:.5f},{energy[1]:.5f},{energy[2]:.5f},{energy[3]:.5f},{energy[4]:.5f}\\n\")\n",
    "    i += 1\n",
    "f.close()"
   ]
  },
  {
   "cell_type": "code",
   "execution_count": 7,
   "metadata": {},
   "outputs": [
    {
     "data": {
      "text/html": [
       "<div>\n",
       "<style scoped>\n",
       "    .dataframe tbody tr th:only-of-type {\n",
       "        vertical-align: middle;\n",
       "    }\n",
       "\n",
       "    .dataframe tbody tr th {\n",
       "        vertical-align: top;\n",
       "    }\n",
       "\n",
       "    .dataframe thead th {\n",
       "        text-align: right;\n",
       "    }\n",
       "</style>\n",
       "<table border=\"1\" class=\"dataframe\">\n",
       "  <thead>\n",
       "    <tr style=\"text-align: right;\">\n",
       "      <th></th>\n",
       "      <th>frame</th>\n",
       "      <th>Bond</th>\n",
       "      <th>Angle</th>\n",
       "      <th>Torsion</th>\n",
       "      <th>Nonbonded</th>\n",
       "      <th>Total</th>\n",
       "    </tr>\n",
       "  </thead>\n",
       "  <tbody>\n",
       "    <tr>\n",
       "      <th>0</th>\n",
       "      <td>0</td>\n",
       "      <td>0.73772</td>\n",
       "      <td>1.42767</td>\n",
       "      <td>1.68558</td>\n",
       "      <td>-10258.52229</td>\n",
       "      <td>-10254.67133</td>\n",
       "    </tr>\n",
       "    <tr>\n",
       "      <th>1</th>\n",
       "      <td>1</td>\n",
       "      <td>0.43406</td>\n",
       "      <td>2.07575</td>\n",
       "      <td>1.31041</td>\n",
       "      <td>-9707.86710</td>\n",
       "      <td>-9704.04688</td>\n",
       "    </tr>\n",
       "    <tr>\n",
       "      <th>2</th>\n",
       "      <td>2</td>\n",
       "      <td>0.01419</td>\n",
       "      <td>2.97840</td>\n",
       "      <td>1.31419</td>\n",
       "      <td>-9373.23679</td>\n",
       "      <td>-9368.93001</td>\n",
       "    </tr>\n",
       "    <tr>\n",
       "      <th>3</th>\n",
       "      <td>3</td>\n",
       "      <td>0.04432</td>\n",
       "      <td>2.24195</td>\n",
       "      <td>0.88152</td>\n",
       "      <td>-9247.11448</td>\n",
       "      <td>-9243.94669</td>\n",
       "    </tr>\n",
       "    <tr>\n",
       "      <th>4</th>\n",
       "      <td>4</td>\n",
       "      <td>0.02352</td>\n",
       "      <td>3.37400</td>\n",
       "      <td>1.95705</td>\n",
       "      <td>-9161.83204</td>\n",
       "      <td>-9156.47746</td>\n",
       "    </tr>\n",
       "  </tbody>\n",
       "</table>\n",
       "</div>"
      ],
      "text/plain": [
       "   frame     Bond    Angle  Torsion    Nonbonded        Total\n",
       "0      0  0.73772  1.42767  1.68558 -10258.52229 -10254.67133\n",
       "1      1  0.43406  2.07575  1.31041  -9707.86710  -9704.04688\n",
       "2      2  0.01419  2.97840  1.31419  -9373.23679  -9368.93001\n",
       "3      3  0.04432  2.24195  0.88152  -9247.11448  -9243.94669\n",
       "4      4  0.02352  3.37400  1.95705  -9161.83204  -9156.47746"
      ]
     },
     "execution_count": 7,
     "metadata": {},
     "output_type": "execute_result"
    }
   ],
   "source": [
    "data = pd.read_csv(\"potential_energy.csv\")\n",
    "data.head()"
   ]
  },
  {
   "cell_type": "code",
   "execution_count": 9,
   "metadata": {},
   "outputs": [
    {
     "data": {
      "text/plain": [
       "<AxesSubplot:>"
      ]
     },
     "execution_count": 9,
     "metadata": {},
     "output_type": "execute_result"
    },
    {
     "data": {
      "image/png": "[encoded data removed]",
      "text/plain": [
       "<Figure size 432x288 with 1 Axes>"
      ]
     },
     "metadata": {
      "needs_background": "light"
     },
     "output_type": "display_data"
    }
   ],
   "source": [
    "data[\"Nonbonded\"].plot()"
   ]
  },
  {
   "cell_type": "code",
   "execution_count": null,
   "metadata": {},
   "outputs": [],
   "source": []
  }
 ],
 "metadata": {
  "kernelspec": {
   "display_name": "Python 3",
   "language": "python",
   "name": "python3"
  },
  "language_info": {
   "codemirror_mode": {
    "name": "ipython",
    "version": 3
   },
   "file_extension": ".py",
   "mimetype": "text/x-python",
   "name": "python",
   "nbconvert_exporter": "python",
   "pygments_lexer": "ipython3",
   "version": "3.7.8"
  }
 },
 "nbformat": 4,
 "nbformat_minor": 4
}
